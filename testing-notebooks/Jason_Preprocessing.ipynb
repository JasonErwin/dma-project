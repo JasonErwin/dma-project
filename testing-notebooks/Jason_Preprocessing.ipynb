{
 "cells": [
  {
   "cell_type": "code",
   "execution_count": 1,
   "id": "0cb3ca10-6b59-4a54-b0bd-208ab42d11c0",
   "metadata": {},
   "outputs": [],
   "source": [
    "import numpy as np\n",
    "import pandas as pd\n",
    "import matplotlib.pyplot as plt"
   ]
  },
  {
   "cell_type": "markdown",
   "id": "efa39bca-cd61-4ff5-a22c-448a7328188e",
   "metadata": {},
   "source": [
    "# 1.0 Merge Target Variable with Training Set Data"
   ]
  },
  {
   "cell_type": "code",
   "execution_count": 2,
   "id": "2c5479f2-4b12-4d41-8b17-3c70e26ea6ba",
   "metadata": {},
   "outputs": [],
   "source": [
    "df_values = pd.read_csv('../datasets/train_features_water.csv')\n",
    "df_labels = pd.read_csv('../datasets/train_labels_water.csv')"
   ]
  },
  {
   "cell_type": "code",
   "execution_count": 3,
   "id": "9680a733-aafc-42e0-b55c-d5665e61d994",
   "metadata": {},
   "outputs": [],
   "source": [
    "df_combined = df_values.merge(df_labels, on='id', how='left')"
   ]
  },
  {
   "cell_type": "code",
   "execution_count": 4,
   "id": "fabde276-263e-4d7d-ba2d-cd0d7f1941e6",
   "metadata": {},
   "outputs": [
    {
     "data": {
      "text/html": [
       "<div>\n",
       "<style scoped>\n",
       "    .dataframe tbody tr th:only-of-type {\n",
       "        vertical-align: middle;\n",
       "    }\n",
       "\n",
       "    .dataframe tbody tr th {\n",
       "        vertical-align: top;\n",
       "    }\n",
       "\n",
       "    .dataframe thead th {\n",
       "        text-align: right;\n",
       "    }\n",
       "</style>\n",
       "<table border=\"1\" class=\"dataframe\">\n",
       "  <thead>\n",
       "    <tr style=\"text-align: right;\">\n",
       "      <th></th>\n",
       "      <th>id</th>\n",
       "      <th>amount_tsh</th>\n",
       "      <th>date_recorded</th>\n",
       "      <th>funder</th>\n",
       "      <th>gps_height</th>\n",
       "      <th>installer</th>\n",
       "      <th>longitude</th>\n",
       "      <th>latitude</th>\n",
       "      <th>wpt_name</th>\n",
       "      <th>num_private</th>\n",
       "      <th>...</th>\n",
       "      <th>water_quality</th>\n",
       "      <th>quality_group</th>\n",
       "      <th>quantity</th>\n",
       "      <th>quantity_group</th>\n",
       "      <th>source</th>\n",
       "      <th>source_type</th>\n",
       "      <th>source_class</th>\n",
       "      <th>waterpoint_type</th>\n",
       "      <th>waterpoint_type_group</th>\n",
       "      <th>status_group</th>\n",
       "    </tr>\n",
       "  </thead>\n",
       "  <tbody>\n",
       "    <tr>\n",
       "      <th>0</th>\n",
       "      <td>69572</td>\n",
       "      <td>6000.0</td>\n",
       "      <td>2011-03-14</td>\n",
       "      <td>Roman</td>\n",
       "      <td>1390</td>\n",
       "      <td>Roman</td>\n",
       "      <td>34.938093</td>\n",
       "      <td>-9.856322</td>\n",
       "      <td>none</td>\n",
       "      <td>0</td>\n",
       "      <td>...</td>\n",
       "      <td>soft</td>\n",
       "      <td>good</td>\n",
       "      <td>enough</td>\n",
       "      <td>enough</td>\n",
       "      <td>spring</td>\n",
       "      <td>spring</td>\n",
       "      <td>groundwater</td>\n",
       "      <td>communal standpipe</td>\n",
       "      <td>communal standpipe</td>\n",
       "      <td>functional</td>\n",
       "    </tr>\n",
       "    <tr>\n",
       "      <th>1</th>\n",
       "      <td>8776</td>\n",
       "      <td>0.0</td>\n",
       "      <td>2013-03-06</td>\n",
       "      <td>Grumeti</td>\n",
       "      <td>1399</td>\n",
       "      <td>GRUMETI</td>\n",
       "      <td>34.698766</td>\n",
       "      <td>-2.147466</td>\n",
       "      <td>Zahanati</td>\n",
       "      <td>0</td>\n",
       "      <td>...</td>\n",
       "      <td>soft</td>\n",
       "      <td>good</td>\n",
       "      <td>insufficient</td>\n",
       "      <td>insufficient</td>\n",
       "      <td>rainwater harvesting</td>\n",
       "      <td>rainwater harvesting</td>\n",
       "      <td>surface</td>\n",
       "      <td>communal standpipe</td>\n",
       "      <td>communal standpipe</td>\n",
       "      <td>functional</td>\n",
       "    </tr>\n",
       "    <tr>\n",
       "      <th>2</th>\n",
       "      <td>34310</td>\n",
       "      <td>25.0</td>\n",
       "      <td>2013-02-25</td>\n",
       "      <td>Lottery Club</td>\n",
       "      <td>686</td>\n",
       "      <td>World vision</td>\n",
       "      <td>37.460664</td>\n",
       "      <td>-3.821329</td>\n",
       "      <td>Kwa Mahundi</td>\n",
       "      <td>0</td>\n",
       "      <td>...</td>\n",
       "      <td>soft</td>\n",
       "      <td>good</td>\n",
       "      <td>enough</td>\n",
       "      <td>enough</td>\n",
       "      <td>dam</td>\n",
       "      <td>dam</td>\n",
       "      <td>surface</td>\n",
       "      <td>communal standpipe multiple</td>\n",
       "      <td>communal standpipe</td>\n",
       "      <td>functional</td>\n",
       "    </tr>\n",
       "    <tr>\n",
       "      <th>3</th>\n",
       "      <td>67743</td>\n",
       "      <td>0.0</td>\n",
       "      <td>2013-01-28</td>\n",
       "      <td>Unicef</td>\n",
       "      <td>263</td>\n",
       "      <td>UNICEF</td>\n",
       "      <td>38.486161</td>\n",
       "      <td>-11.155298</td>\n",
       "      <td>Zahanati Ya Nanyumbu</td>\n",
       "      <td>0</td>\n",
       "      <td>...</td>\n",
       "      <td>soft</td>\n",
       "      <td>good</td>\n",
       "      <td>dry</td>\n",
       "      <td>dry</td>\n",
       "      <td>machine dbh</td>\n",
       "      <td>borehole</td>\n",
       "      <td>groundwater</td>\n",
       "      <td>communal standpipe multiple</td>\n",
       "      <td>communal standpipe</td>\n",
       "      <td>non functional</td>\n",
       "    </tr>\n",
       "    <tr>\n",
       "      <th>4</th>\n",
       "      <td>19728</td>\n",
       "      <td>0.0</td>\n",
       "      <td>2011-07-13</td>\n",
       "      <td>Action In A</td>\n",
       "      <td>0</td>\n",
       "      <td>Artisan</td>\n",
       "      <td>31.130847</td>\n",
       "      <td>-1.825359</td>\n",
       "      <td>Shuleni</td>\n",
       "      <td>0</td>\n",
       "      <td>...</td>\n",
       "      <td>soft</td>\n",
       "      <td>good</td>\n",
       "      <td>seasonal</td>\n",
       "      <td>seasonal</td>\n",
       "      <td>rainwater harvesting</td>\n",
       "      <td>rainwater harvesting</td>\n",
       "      <td>surface</td>\n",
       "      <td>communal standpipe</td>\n",
       "      <td>communal standpipe</td>\n",
       "      <td>functional</td>\n",
       "    </tr>\n",
       "    <tr>\n",
       "      <th>...</th>\n",
       "      <td>...</td>\n",
       "      <td>...</td>\n",
       "      <td>...</td>\n",
       "      <td>...</td>\n",
       "      <td>...</td>\n",
       "      <td>...</td>\n",
       "      <td>...</td>\n",
       "      <td>...</td>\n",
       "      <td>...</td>\n",
       "      <td>...</td>\n",
       "      <td>...</td>\n",
       "      <td>...</td>\n",
       "      <td>...</td>\n",
       "      <td>...</td>\n",
       "      <td>...</td>\n",
       "      <td>...</td>\n",
       "      <td>...</td>\n",
       "      <td>...</td>\n",
       "      <td>...</td>\n",
       "      <td>...</td>\n",
       "      <td>...</td>\n",
       "    </tr>\n",
       "    <tr>\n",
       "      <th>59395</th>\n",
       "      <td>60739</td>\n",
       "      <td>10.0</td>\n",
       "      <td>2013-05-03</td>\n",
       "      <td>Germany Republi</td>\n",
       "      <td>1210</td>\n",
       "      <td>CES</td>\n",
       "      <td>37.169807</td>\n",
       "      <td>-3.253847</td>\n",
       "      <td>Area Three Namba 27</td>\n",
       "      <td>0</td>\n",
       "      <td>...</td>\n",
       "      <td>soft</td>\n",
       "      <td>good</td>\n",
       "      <td>enough</td>\n",
       "      <td>enough</td>\n",
       "      <td>spring</td>\n",
       "      <td>spring</td>\n",
       "      <td>groundwater</td>\n",
       "      <td>communal standpipe</td>\n",
       "      <td>communal standpipe</td>\n",
       "      <td>functional</td>\n",
       "    </tr>\n",
       "    <tr>\n",
       "      <th>59396</th>\n",
       "      <td>27263</td>\n",
       "      <td>4700.0</td>\n",
       "      <td>2011-05-07</td>\n",
       "      <td>Cefa-njombe</td>\n",
       "      <td>1212</td>\n",
       "      <td>Cefa</td>\n",
       "      <td>35.249991</td>\n",
       "      <td>-9.070629</td>\n",
       "      <td>Kwa Yahona Kuvala</td>\n",
       "      <td>0</td>\n",
       "      <td>...</td>\n",
       "      <td>soft</td>\n",
       "      <td>good</td>\n",
       "      <td>enough</td>\n",
       "      <td>enough</td>\n",
       "      <td>river</td>\n",
       "      <td>river/lake</td>\n",
       "      <td>surface</td>\n",
       "      <td>communal standpipe</td>\n",
       "      <td>communal standpipe</td>\n",
       "      <td>functional</td>\n",
       "    </tr>\n",
       "    <tr>\n",
       "      <th>59397</th>\n",
       "      <td>37057</td>\n",
       "      <td>0.0</td>\n",
       "      <td>2011-04-11</td>\n",
       "      <td>NaN</td>\n",
       "      <td>0</td>\n",
       "      <td>NaN</td>\n",
       "      <td>34.017087</td>\n",
       "      <td>-8.750434</td>\n",
       "      <td>Mashine</td>\n",
       "      <td>0</td>\n",
       "      <td>...</td>\n",
       "      <td>fluoride</td>\n",
       "      <td>fluoride</td>\n",
       "      <td>enough</td>\n",
       "      <td>enough</td>\n",
       "      <td>machine dbh</td>\n",
       "      <td>borehole</td>\n",
       "      <td>groundwater</td>\n",
       "      <td>hand pump</td>\n",
       "      <td>hand pump</td>\n",
       "      <td>functional</td>\n",
       "    </tr>\n",
       "    <tr>\n",
       "      <th>59398</th>\n",
       "      <td>31282</td>\n",
       "      <td>0.0</td>\n",
       "      <td>2011-03-08</td>\n",
       "      <td>Malec</td>\n",
       "      <td>0</td>\n",
       "      <td>Musa</td>\n",
       "      <td>35.861315</td>\n",
       "      <td>-6.378573</td>\n",
       "      <td>Mshoro</td>\n",
       "      <td>0</td>\n",
       "      <td>...</td>\n",
       "      <td>soft</td>\n",
       "      <td>good</td>\n",
       "      <td>insufficient</td>\n",
       "      <td>insufficient</td>\n",
       "      <td>shallow well</td>\n",
       "      <td>shallow well</td>\n",
       "      <td>groundwater</td>\n",
       "      <td>hand pump</td>\n",
       "      <td>hand pump</td>\n",
       "      <td>functional</td>\n",
       "    </tr>\n",
       "    <tr>\n",
       "      <th>59399</th>\n",
       "      <td>26348</td>\n",
       "      <td>0.0</td>\n",
       "      <td>2011-03-23</td>\n",
       "      <td>World Bank</td>\n",
       "      <td>191</td>\n",
       "      <td>World</td>\n",
       "      <td>38.104048</td>\n",
       "      <td>-6.747464</td>\n",
       "      <td>Kwa Mzee Lugawa</td>\n",
       "      <td>0</td>\n",
       "      <td>...</td>\n",
       "      <td>salty</td>\n",
       "      <td>salty</td>\n",
       "      <td>enough</td>\n",
       "      <td>enough</td>\n",
       "      <td>shallow well</td>\n",
       "      <td>shallow well</td>\n",
       "      <td>groundwater</td>\n",
       "      <td>hand pump</td>\n",
       "      <td>hand pump</td>\n",
       "      <td>functional</td>\n",
       "    </tr>\n",
       "  </tbody>\n",
       "</table>\n",
       "<p>59400 rows × 41 columns</p>\n",
       "</div>"
      ],
      "text/plain": [
       "          id  amount_tsh date_recorded           funder  gps_height  \\\n",
       "0      69572      6000.0    2011-03-14            Roman        1390   \n",
       "1       8776         0.0    2013-03-06          Grumeti        1399   \n",
       "2      34310        25.0    2013-02-25     Lottery Club         686   \n",
       "3      67743         0.0    2013-01-28           Unicef         263   \n",
       "4      19728         0.0    2011-07-13      Action In A           0   \n",
       "...      ...         ...           ...              ...         ...   \n",
       "59395  60739        10.0    2013-05-03  Germany Republi        1210   \n",
       "59396  27263      4700.0    2011-05-07      Cefa-njombe        1212   \n",
       "59397  37057         0.0    2011-04-11              NaN           0   \n",
       "59398  31282         0.0    2011-03-08            Malec           0   \n",
       "59399  26348         0.0    2011-03-23       World Bank         191   \n",
       "\n",
       "          installer  longitude   latitude              wpt_name  num_private  \\\n",
       "0             Roman  34.938093  -9.856322                  none            0   \n",
       "1           GRUMETI  34.698766  -2.147466              Zahanati            0   \n",
       "2      World vision  37.460664  -3.821329           Kwa Mahundi            0   \n",
       "3            UNICEF  38.486161 -11.155298  Zahanati Ya Nanyumbu            0   \n",
       "4           Artisan  31.130847  -1.825359               Shuleni            0   \n",
       "...             ...        ...        ...                   ...          ...   \n",
       "59395           CES  37.169807  -3.253847   Area Three Namba 27            0   \n",
       "59396          Cefa  35.249991  -9.070629     Kwa Yahona Kuvala            0   \n",
       "59397           NaN  34.017087  -8.750434               Mashine            0   \n",
       "59398          Musa  35.861315  -6.378573                Mshoro            0   \n",
       "59399         World  38.104048  -6.747464       Kwa Mzee Lugawa            0   \n",
       "\n",
       "       ... water_quality quality_group      quantity  quantity_group  \\\n",
       "0      ...          soft          good        enough          enough   \n",
       "1      ...          soft          good  insufficient    insufficient   \n",
       "2      ...          soft          good        enough          enough   \n",
       "3      ...          soft          good           dry             dry   \n",
       "4      ...          soft          good      seasonal        seasonal   \n",
       "...    ...           ...           ...           ...             ...   \n",
       "59395  ...          soft          good        enough          enough   \n",
       "59396  ...          soft          good        enough          enough   \n",
       "59397  ...      fluoride      fluoride        enough          enough   \n",
       "59398  ...          soft          good  insufficient    insufficient   \n",
       "59399  ...         salty         salty        enough          enough   \n",
       "\n",
       "                     source           source_type source_class  \\\n",
       "0                    spring                spring  groundwater   \n",
       "1      rainwater harvesting  rainwater harvesting      surface   \n",
       "2                       dam                   dam      surface   \n",
       "3               machine dbh              borehole  groundwater   \n",
       "4      rainwater harvesting  rainwater harvesting      surface   \n",
       "...                     ...                   ...          ...   \n",
       "59395                spring                spring  groundwater   \n",
       "59396                 river            river/lake      surface   \n",
       "59397           machine dbh              borehole  groundwater   \n",
       "59398          shallow well          shallow well  groundwater   \n",
       "59399          shallow well          shallow well  groundwater   \n",
       "\n",
       "                   waterpoint_type waterpoint_type_group    status_group  \n",
       "0               communal standpipe    communal standpipe      functional  \n",
       "1               communal standpipe    communal standpipe      functional  \n",
       "2      communal standpipe multiple    communal standpipe      functional  \n",
       "3      communal standpipe multiple    communal standpipe  non functional  \n",
       "4               communal standpipe    communal standpipe      functional  \n",
       "...                            ...                   ...             ...  \n",
       "59395           communal standpipe    communal standpipe      functional  \n",
       "59396           communal standpipe    communal standpipe      functional  \n",
       "59397                    hand pump             hand pump      functional  \n",
       "59398                    hand pump             hand pump      functional  \n",
       "59399                    hand pump             hand pump      functional  \n",
       "\n",
       "[59400 rows x 41 columns]"
      ]
     },
     "execution_count": 4,
     "metadata": {},
     "output_type": "execute_result"
    }
   ],
   "source": [
    "df_combined"
   ]
  },
  {
   "cell_type": "code",
   "execution_count": 5,
   "id": "5391be79-56e8-461e-bfb2-d76fb9841ae6",
   "metadata": {},
   "outputs": [],
   "source": [
    "# df_combined.to_csv('./datasets/Combined_Training_Set.csv')"
   ]
  },
  {
   "cell_type": "markdown",
   "id": "dc34e981-074d-4025-a916-76801d994066",
   "metadata": {},
   "source": [
    "# 2.0 Data Quality Assessment"
   ]
  },
  {
   "cell_type": "code",
   "execution_count": 6,
   "id": "6061f24f-9b5f-4d6d-9b90-c8fd5470e850",
   "metadata": {},
   "outputs": [
    {
     "data": {
      "text/plain": [
       "(59400, 41)"
      ]
     },
     "execution_count": 6,
     "metadata": {},
     "output_type": "execute_result"
    }
   ],
   "source": [
    "df_combined.shape"
   ]
  },
  {
   "cell_type": "code",
   "execution_count": 7,
   "id": "74002224-53f2-4ff1-bc0d-36adb7dbffc4",
   "metadata": {},
   "outputs": [
    {
     "data": {
      "text/html": [
       "<div>\n",
       "<style scoped>\n",
       "    .dataframe tbody tr th:only-of-type {\n",
       "        vertical-align: middle;\n",
       "    }\n",
       "\n",
       "    .dataframe tbody tr th {\n",
       "        vertical-align: top;\n",
       "    }\n",
       "\n",
       "    .dataframe thead th {\n",
       "        text-align: right;\n",
       "    }\n",
       "</style>\n",
       "<table border=\"1\" class=\"dataframe\">\n",
       "  <thead>\n",
       "    <tr style=\"text-align: right;\">\n",
       "      <th></th>\n",
       "      <th>id</th>\n",
       "      <th>amount_tsh</th>\n",
       "      <th>gps_height</th>\n",
       "      <th>longitude</th>\n",
       "      <th>latitude</th>\n",
       "      <th>num_private</th>\n",
       "      <th>region_code</th>\n",
       "      <th>district_code</th>\n",
       "      <th>population</th>\n",
       "      <th>construction_year</th>\n",
       "    </tr>\n",
       "  </thead>\n",
       "  <tbody>\n",
       "    <tr>\n",
       "      <th>count</th>\n",
       "      <td>59400.000000</td>\n",
       "      <td>59400.000000</td>\n",
       "      <td>59400.000000</td>\n",
       "      <td>59400.000000</td>\n",
       "      <td>5.940000e+04</td>\n",
       "      <td>59400.000000</td>\n",
       "      <td>59400.000000</td>\n",
       "      <td>59400.000000</td>\n",
       "      <td>59400.000000</td>\n",
       "      <td>59400.000000</td>\n",
       "    </tr>\n",
       "    <tr>\n",
       "      <th>mean</th>\n",
       "      <td>37115.131768</td>\n",
       "      <td>317.650385</td>\n",
       "      <td>668.297239</td>\n",
       "      <td>34.077427</td>\n",
       "      <td>-5.706033e+00</td>\n",
       "      <td>0.474141</td>\n",
       "      <td>15.297003</td>\n",
       "      <td>5.629747</td>\n",
       "      <td>179.909983</td>\n",
       "      <td>1300.652475</td>\n",
       "    </tr>\n",
       "    <tr>\n",
       "      <th>std</th>\n",
       "      <td>21453.128371</td>\n",
       "      <td>2997.574558</td>\n",
       "      <td>693.116350</td>\n",
       "      <td>6.567432</td>\n",
       "      <td>2.946019e+00</td>\n",
       "      <td>12.236230</td>\n",
       "      <td>17.587406</td>\n",
       "      <td>9.633649</td>\n",
       "      <td>471.482176</td>\n",
       "      <td>951.620547</td>\n",
       "    </tr>\n",
       "    <tr>\n",
       "      <th>min</th>\n",
       "      <td>0.000000</td>\n",
       "      <td>0.000000</td>\n",
       "      <td>-90.000000</td>\n",
       "      <td>0.000000</td>\n",
       "      <td>-1.164944e+01</td>\n",
       "      <td>0.000000</td>\n",
       "      <td>1.000000</td>\n",
       "      <td>0.000000</td>\n",
       "      <td>0.000000</td>\n",
       "      <td>0.000000</td>\n",
       "    </tr>\n",
       "    <tr>\n",
       "      <th>25%</th>\n",
       "      <td>18519.750000</td>\n",
       "      <td>0.000000</td>\n",
       "      <td>0.000000</td>\n",
       "      <td>33.090347</td>\n",
       "      <td>-8.540621e+00</td>\n",
       "      <td>0.000000</td>\n",
       "      <td>5.000000</td>\n",
       "      <td>2.000000</td>\n",
       "      <td>0.000000</td>\n",
       "      <td>0.000000</td>\n",
       "    </tr>\n",
       "    <tr>\n",
       "      <th>50%</th>\n",
       "      <td>37061.500000</td>\n",
       "      <td>0.000000</td>\n",
       "      <td>369.000000</td>\n",
       "      <td>34.908743</td>\n",
       "      <td>-5.021597e+00</td>\n",
       "      <td>0.000000</td>\n",
       "      <td>12.000000</td>\n",
       "      <td>3.000000</td>\n",
       "      <td>25.000000</td>\n",
       "      <td>1986.000000</td>\n",
       "    </tr>\n",
       "    <tr>\n",
       "      <th>75%</th>\n",
       "      <td>55656.500000</td>\n",
       "      <td>20.000000</td>\n",
       "      <td>1319.250000</td>\n",
       "      <td>37.178387</td>\n",
       "      <td>-3.326156e+00</td>\n",
       "      <td>0.000000</td>\n",
       "      <td>17.000000</td>\n",
       "      <td>5.000000</td>\n",
       "      <td>215.000000</td>\n",
       "      <td>2004.000000</td>\n",
       "    </tr>\n",
       "    <tr>\n",
       "      <th>max</th>\n",
       "      <td>74247.000000</td>\n",
       "      <td>350000.000000</td>\n",
       "      <td>2770.000000</td>\n",
       "      <td>40.345193</td>\n",
       "      <td>-2.000000e-08</td>\n",
       "      <td>1776.000000</td>\n",
       "      <td>99.000000</td>\n",
       "      <td>80.000000</td>\n",
       "      <td>30500.000000</td>\n",
       "      <td>2013.000000</td>\n",
       "    </tr>\n",
       "  </tbody>\n",
       "</table>\n",
       "</div>"
      ],
      "text/plain": [
       "                 id     amount_tsh    gps_height     longitude      latitude  \\\n",
       "count  59400.000000   59400.000000  59400.000000  59400.000000  5.940000e+04   \n",
       "mean   37115.131768     317.650385    668.297239     34.077427 -5.706033e+00   \n",
       "std    21453.128371    2997.574558    693.116350      6.567432  2.946019e+00   \n",
       "min        0.000000       0.000000    -90.000000      0.000000 -1.164944e+01   \n",
       "25%    18519.750000       0.000000      0.000000     33.090347 -8.540621e+00   \n",
       "50%    37061.500000       0.000000    369.000000     34.908743 -5.021597e+00   \n",
       "75%    55656.500000      20.000000   1319.250000     37.178387 -3.326156e+00   \n",
       "max    74247.000000  350000.000000   2770.000000     40.345193 -2.000000e-08   \n",
       "\n",
       "        num_private   region_code  district_code    population  \\\n",
       "count  59400.000000  59400.000000   59400.000000  59400.000000   \n",
       "mean       0.474141     15.297003       5.629747    179.909983   \n",
       "std       12.236230     17.587406       9.633649    471.482176   \n",
       "min        0.000000      1.000000       0.000000      0.000000   \n",
       "25%        0.000000      5.000000       2.000000      0.000000   \n",
       "50%        0.000000     12.000000       3.000000     25.000000   \n",
       "75%        0.000000     17.000000       5.000000    215.000000   \n",
       "max     1776.000000     99.000000      80.000000  30500.000000   \n",
       "\n",
       "       construction_year  \n",
       "count       59400.000000  \n",
       "mean         1300.652475  \n",
       "std           951.620547  \n",
       "min             0.000000  \n",
       "25%             0.000000  \n",
       "50%          1986.000000  \n",
       "75%          2004.000000  \n",
       "max          2013.000000  "
      ]
     },
     "execution_count": 7,
     "metadata": {},
     "output_type": "execute_result"
    }
   ],
   "source": [
    "df_combined.describe()"
   ]
  },
  {
   "cell_type": "code",
   "execution_count": 8,
   "id": "a3d43abf-bfc0-48b8-b4ca-7022a9362bf1",
   "metadata": {},
   "outputs": [
    {
     "name": "stdout",
     "output_type": "stream",
     "text": [
      "<class 'pandas.core.frame.DataFrame'>\n",
      "Int64Index: 59400 entries, 0 to 59399\n",
      "Data columns (total 41 columns):\n",
      " #   Column                 Non-Null Count  Dtype  \n",
      "---  ------                 --------------  -----  \n",
      " 0   id                     59400 non-null  int64  \n",
      " 1   amount_tsh             59400 non-null  float64\n",
      " 2   date_recorded          59400 non-null  object \n",
      " 3   funder                 55765 non-null  object \n",
      " 4   gps_height             59400 non-null  int64  \n",
      " 5   installer              55745 non-null  object \n",
      " 6   longitude              59400 non-null  float64\n",
      " 7   latitude               59400 non-null  float64\n",
      " 8   wpt_name               59400 non-null  object \n",
      " 9   num_private            59400 non-null  int64  \n",
      " 10  basin                  59400 non-null  object \n",
      " 11  subvillage             59029 non-null  object \n",
      " 12  region                 59400 non-null  object \n",
      " 13  region_code            59400 non-null  int64  \n",
      " 14  district_code          59400 non-null  int64  \n",
      " 15  lga                    59400 non-null  object \n",
      " 16  ward                   59400 non-null  object \n",
      " 17  population             59400 non-null  int64  \n",
      " 18  public_meeting         56066 non-null  object \n",
      " 19  recorded_by            59400 non-null  object \n",
      " 20  scheme_management      55523 non-null  object \n",
      " 21  scheme_name            31234 non-null  object \n",
      " 22  permit                 56344 non-null  object \n",
      " 23  construction_year      59400 non-null  int64  \n",
      " 24  extraction_type        59400 non-null  object \n",
      " 25  extraction_type_group  59400 non-null  object \n",
      " 26  extraction_type_class  59400 non-null  object \n",
      " 27  management             59400 non-null  object \n",
      " 28  management_group       59400 non-null  object \n",
      " 29  payment                59400 non-null  object \n",
      " 30  payment_type           59400 non-null  object \n",
      " 31  water_quality          59400 non-null  object \n",
      " 32  quality_group          59400 non-null  object \n",
      " 33  quantity               59400 non-null  object \n",
      " 34  quantity_group         59400 non-null  object \n",
      " 35  source                 59400 non-null  object \n",
      " 36  source_type            59400 non-null  object \n",
      " 37  source_class           59400 non-null  object \n",
      " 38  waterpoint_type        59400 non-null  object \n",
      " 39  waterpoint_type_group  59400 non-null  object \n",
      " 40  status_group           59400 non-null  object \n",
      "dtypes: float64(3), int64(7), object(31)\n",
      "memory usage: 19.0+ MB\n"
     ]
    }
   ],
   "source": [
    "df_combined.info()"
   ]
  },
  {
   "cell_type": "markdown",
   "id": "c2031d8e-67f8-44c0-beb1-19bd58d605bf",
   "metadata": {
    "tags": []
   },
   "source": [
    "## 2.1 Duplicated Data"
   ]
  },
  {
   "cell_type": "code",
   "execution_count": 9,
   "id": "cfb3a81c-27d2-4b79-8c7f-6d991cf0b39c",
   "metadata": {},
   "outputs": [
    {
     "data": {
      "text/html": [
       "<div>\n",
       "<style scoped>\n",
       "    .dataframe tbody tr th:only-of-type {\n",
       "        vertical-align: middle;\n",
       "    }\n",
       "\n",
       "    .dataframe tbody tr th {\n",
       "        vertical-align: top;\n",
       "    }\n",
       "\n",
       "    .dataframe thead th {\n",
       "        text-align: right;\n",
       "    }\n",
       "</style>\n",
       "<table border=\"1\" class=\"dataframe\">\n",
       "  <thead>\n",
       "    <tr style=\"text-align: right;\">\n",
       "      <th></th>\n",
       "      <th>id</th>\n",
       "      <th>amount_tsh</th>\n",
       "      <th>date_recorded</th>\n",
       "      <th>funder</th>\n",
       "      <th>gps_height</th>\n",
       "      <th>installer</th>\n",
       "      <th>longitude</th>\n",
       "      <th>latitude</th>\n",
       "      <th>wpt_name</th>\n",
       "      <th>num_private</th>\n",
       "      <th>...</th>\n",
       "      <th>water_quality</th>\n",
       "      <th>quality_group</th>\n",
       "      <th>quantity</th>\n",
       "      <th>quantity_group</th>\n",
       "      <th>source</th>\n",
       "      <th>source_type</th>\n",
       "      <th>source_class</th>\n",
       "      <th>waterpoint_type</th>\n",
       "      <th>waterpoint_type_group</th>\n",
       "      <th>status_group</th>\n",
       "    </tr>\n",
       "  </thead>\n",
       "  <tbody>\n",
       "  </tbody>\n",
       "</table>\n",
       "<p>0 rows × 41 columns</p>\n",
       "</div>"
      ],
      "text/plain": [
       "Empty DataFrame\n",
       "Columns: [id, amount_tsh, date_recorded, funder, gps_height, installer, longitude, latitude, wpt_name, num_private, basin, subvillage, region, region_code, district_code, lga, ward, population, public_meeting, recorded_by, scheme_management, scheme_name, permit, construction_year, extraction_type, extraction_type_group, extraction_type_class, management, management_group, payment, payment_type, water_quality, quality_group, quantity, quantity_group, source, source_type, source_class, waterpoint_type, waterpoint_type_group, status_group]\n",
       "Index: []\n",
       "\n",
       "[0 rows x 41 columns]"
      ]
     },
     "execution_count": 9,
     "metadata": {},
     "output_type": "execute_result"
    }
   ],
   "source": [
    "df_combined[df_combined.duplicated(keep=False)]"
   ]
  },
  {
   "cell_type": "markdown",
   "id": "1e1022ca-9eb8-4d2f-be5c-523f3495132f",
   "metadata": {},
   "source": [
    "No duplicated rows. "
   ]
  },
  {
   "cell_type": "markdown",
   "id": "e161a8fb-0100-4570-9106-d2238d5e9233",
   "metadata": {
    "tags": []
   },
   "source": [
    "## 2.2 Missing Data"
   ]
  },
  {
   "cell_type": "code",
   "execution_count": 10,
   "id": "2b38ee19-c922-4866-838c-6ad07e1fa1e9",
   "metadata": {},
   "outputs": [
    {
     "data": {
      "text/plain": [
       "id                           0\n",
       "amount_tsh                   0\n",
       "date_recorded                0\n",
       "funder                    3635\n",
       "gps_height                   0\n",
       "installer                 3655\n",
       "longitude                    0\n",
       "latitude                     0\n",
       "wpt_name                     0\n",
       "num_private                  0\n",
       "basin                        0\n",
       "subvillage                 371\n",
       "region                       0\n",
       "region_code                  0\n",
       "district_code                0\n",
       "lga                          0\n",
       "ward                         0\n",
       "population                   0\n",
       "public_meeting            3334\n",
       "recorded_by                  0\n",
       "scheme_management         3877\n",
       "scheme_name              28166\n",
       "permit                    3056\n",
       "construction_year            0\n",
       "extraction_type              0\n",
       "extraction_type_group        0\n",
       "extraction_type_class        0\n",
       "management                   0\n",
       "management_group             0\n",
       "payment                      0\n",
       "payment_type                 0\n",
       "water_quality                0\n",
       "quality_group                0\n",
       "quantity                     0\n",
       "quantity_group               0\n",
       "source                       0\n",
       "source_type                  0\n",
       "source_class                 0\n",
       "waterpoint_type              0\n",
       "waterpoint_type_group        0\n",
       "status_group                 0\n",
       "dtype: int64"
      ]
     },
     "execution_count": 10,
     "metadata": {},
     "output_type": "execute_result"
    }
   ],
   "source": [
    "df_combined.isna().sum()"
   ]
  },
  {
   "cell_type": "markdown",
   "id": "19a8d063-4e30-4899-9a5e-be1d616560b6",
   "metadata": {},
   "source": [
    "## 2.3 Funder"
   ]
  },
  {
   "cell_type": "code",
   "execution_count": 11,
   "id": "797b6832-f803-41e7-bbd8-acbd5a30db9d",
   "metadata": {},
   "outputs": [
    {
     "data": {
      "text/plain": [
       "Government Of Tanzania    9084\n",
       "Danida                    3114\n",
       "Hesawa                    2202\n",
       "Rwssp                     1374\n",
       "World Bank                1349\n",
       "                          ... \n",
       "Rarymond Ekura               1\n",
       "Justine Marwa                1\n",
       "Municipal Council            1\n",
       "Afdp                         1\n",
       "Samlo                        1\n",
       "Name: funder, Length: 1897, dtype: int64"
      ]
     },
     "execution_count": 11,
     "metadata": {},
     "output_type": "execute_result"
    }
   ],
   "source": [
    "df_combined['funder'].value_counts()"
   ]
  },
  {
   "cell_type": "code",
   "execution_count": 12,
   "id": "f853a1bd-e762-430d-9f72-61e11bf8341b",
   "metadata": {},
   "outputs": [
    {
     "data": {
      "text/plain": [
       "3635"
      ]
     },
     "execution_count": 12,
     "metadata": {},
     "output_type": "execute_result"
    }
   ],
   "source": [
    "df_combined['funder'].isna().sum()"
   ]
  },
  {
   "cell_type": "code",
   "execution_count": 13,
   "id": "6b88e020-fab3-4b27-9860-256f1639f38d",
   "metadata": {},
   "outputs": [
    {
     "data": {
      "text/plain": [
       "1898"
      ]
     },
     "execution_count": 13,
     "metadata": {},
     "output_type": "execute_result"
    }
   ],
   "source": [
    "len(df_combined['funder'].unique())"
   ]
  },
  {
   "cell_type": "markdown",
   "id": "bb8aba1c-0cee-44fb-9a0f-1009a555b075",
   "metadata": {},
   "source": [
    "Observations :\n",
    "- **777** rows contains 0's as their Funder.\n",
    "- **3635** rows contain NaN values.\n",
    "- **1898** Unique Elements including NaN.\n",
    "- Spelling Mistakes are present for similar funder names. Exp: Zao Water Spring & Zao Water Spring X\n",
    "\n",
    "Suggestions :\n",
    "- This column might be not important for the modelling process and could be ignored.\n",
    "- However, binning could be done to classify Funders as a group if required."
   ]
  },
  {
   "cell_type": "markdown",
   "id": "bca724c6-e5d1-4f67-8c0f-615e37f574e0",
   "metadata": {},
   "source": [
    "## 2.4 Installer"
   ]
  },
  {
   "cell_type": "code",
   "execution_count": 14,
   "id": "e49e95a8-693f-42b2-97bb-f33437bd5214",
   "metadata": {},
   "outputs": [
    {
     "data": {
      "text/plain": [
       "DWE                17402\n",
       "Government          1825\n",
       "RWE                 1206\n",
       "Commu               1060\n",
       "DANIDA              1050\n",
       "                   ...  \n",
       "Wizara  ya maji        1\n",
       "TWESS                  1\n",
       "Nasan workers          1\n",
       "R                      1\n",
       "SELEPTA                1\n",
       "Name: installer, Length: 2145, dtype: int64"
      ]
     },
     "execution_count": 14,
     "metadata": {},
     "output_type": "execute_result"
    }
   ],
   "source": [
    "df_combined['installer'].value_counts()"
   ]
  },
  {
   "cell_type": "code",
   "execution_count": 15,
   "id": "ac025c97-2c45-4550-9e9d-a908b319bf94",
   "metadata": {},
   "outputs": [
    {
     "data": {
      "text/plain": [
       "3655"
      ]
     },
     "execution_count": 15,
     "metadata": {},
     "output_type": "execute_result"
    }
   ],
   "source": [
    "df_combined['installer'].isna().sum()"
   ]
  },
  {
   "cell_type": "code",
   "execution_count": 16,
   "id": "09bccd20-d264-4714-bcf1-4f73ca034611",
   "metadata": {},
   "outputs": [
    {
     "data": {
      "text/plain": [
       "2146"
      ]
     },
     "execution_count": 16,
     "metadata": {},
     "output_type": "execute_result"
    }
   ],
   "source": [
    "len(df_combined['installer'].unique())"
   ]
  },
  {
   "cell_type": "markdown",
   "id": "2e341289-8b84-4640-b5b6-9956779311b1",
   "metadata": {},
   "source": [
    "Observations :\n",
    "- **780** rows contain 0 or - as Installer.\n",
    "- **3655** rows contain NaN values.\n",
    "- **2146** Unique Elements including NaN.\n",
    "- Spelling Mistakes are present for similar Installer names. Exp: Dr. Matomola, Dr.Matomola.\n",
    "\n",
    "Suggestions :\n",
    "- Spelling Mistakes would have to be corrected at the future if this column is important.\n",
    "- Binning would have to be done to reduce num of unique instances."
   ]
  },
  {
   "cell_type": "markdown",
   "id": "a38e0809-29c7-44cd-842d-ed08063b5fec",
   "metadata": {},
   "source": [
    "## 2.5 Subvillage / Region"
   ]
  },
  {
   "cell_type": "code",
   "execution_count": 17,
   "id": "f332c018-aa9b-420d-b40b-54bf7f838b60",
   "metadata": {},
   "outputs": [
    {
     "data": {
      "text/plain": [
       "Madukani        508\n",
       "Shuleni         506\n",
       "Majengo         502\n",
       "Kati            373\n",
       "Mtakuja         262\n",
       "               ... \n",
       "Kipompo           1\n",
       "Chanyamilima      1\n",
       "Ikalime           1\n",
       "Kemagaka          1\n",
       "Kikatanyemba      1\n",
       "Name: subvillage, Length: 19287, dtype: int64"
      ]
     },
     "execution_count": 17,
     "metadata": {},
     "output_type": "execute_result"
    }
   ],
   "source": [
    "df_combined['subvillage'].value_counts()"
   ]
  },
  {
   "cell_type": "code",
   "execution_count": 18,
   "id": "911d8673-e230-4225-b47e-adaa728556bf",
   "metadata": {},
   "outputs": [
    {
     "data": {
      "text/plain": [
       "371"
      ]
     },
     "execution_count": 18,
     "metadata": {},
     "output_type": "execute_result"
    }
   ],
   "source": [
    "df_combined['subvillage'].isna().sum()"
   ]
  },
  {
   "cell_type": "code",
   "execution_count": 19,
   "id": "3ed97b1e-9d11-426b-9f4d-591b4ade7eff",
   "metadata": {},
   "outputs": [
    {
     "data": {
      "text/plain": [
       "19288"
      ]
     },
     "execution_count": 19,
     "metadata": {},
     "output_type": "execute_result"
    }
   ],
   "source": [
    "len(df_combined['subvillage'].unique())"
   ]
  },
  {
   "cell_type": "markdown",
   "id": "d395b618-208b-4b79-89a8-b5ed4ce9a26c",
   "metadata": {},
   "source": [
    "Observations :\n",
    "- Has mixture of numbers and subvillages name.\n",
    "- **371** rows containing NaN data.\n",
    "\n",
    "Suggestions :\n",
    "- Drop this column and use **Region** column instead as villages are assigned as on region."
   ]
  },
  {
   "cell_type": "code",
   "execution_count": 20,
   "id": "e37ee40b-044b-4b46-9033-88c18b775fbc",
   "metadata": {},
   "outputs": [
    {
     "data": {
      "text/plain": [
       "array(['Iringa', 'Mara', 'Manyara', 'Mtwara', 'Kagera', 'Tanga',\n",
       "       'Shinyanga', 'Tabora', 'Pwani', 'Ruvuma', 'Kilimanjaro', 'Rukwa',\n",
       "       'Mwanza', 'Kigoma', 'Lindi', 'Dodoma', 'Arusha', 'Mbeya',\n",
       "       'Singida', 'Morogoro', 'Dar es Salaam'], dtype=object)"
      ]
     },
     "execution_count": 20,
     "metadata": {},
     "output_type": "execute_result"
    }
   ],
   "source": [
    "df_combined['region'].unique()"
   ]
  },
  {
   "cell_type": "code",
   "execution_count": 21,
   "id": "2b7f4908-0efc-42ec-8f91-4583a6d65a86",
   "metadata": {},
   "outputs": [
    {
     "data": {
      "text/plain": [
       "Iringa           5294\n",
       "Shinyanga        4982\n",
       "Mbeya            4639\n",
       "Kilimanjaro      4379\n",
       "Morogoro         4006\n",
       "Arusha           3350\n",
       "Kagera           3316\n",
       "Mwanza           3102\n",
       "Kigoma           2816\n",
       "Ruvuma           2640\n",
       "Pwani            2635\n",
       "Tanga            2547\n",
       "Dodoma           2201\n",
       "Singida          2093\n",
       "Mara             1969\n",
       "Tabora           1959\n",
       "Rukwa            1808\n",
       "Mtwara           1730\n",
       "Manyara          1583\n",
       "Lindi            1546\n",
       "Dar es Salaam     805\n",
       "Name: region, dtype: int64"
      ]
     },
     "execution_count": 21,
     "metadata": {},
     "output_type": "execute_result"
    }
   ],
   "source": [
    "df_combined['region'].value_counts()"
   ]
  },
  {
   "cell_type": "code",
   "execution_count": 22,
   "id": "fe55638a-c589-4656-b605-9ae3af644de8",
   "metadata": {},
   "outputs": [
    {
     "data": {
      "text/plain": [
       "Text(0, 0.5, 'No of Instances')"
      ]
     },
     "execution_count": 22,
     "metadata": {},
     "output_type": "execute_result"
    },
    {
     "data": {
      "image/png": "[encoded data removed]",
      "text/plain": [
       "<Figure size 432x288 with 1 Axes>"
      ]
     },
     "metadata": {
      "needs_background": "light"
     },
     "output_type": "display_data"
    }
   ],
   "source": [
    "df_combined['region'].value_counts().plot(kind=\"bar\")\n",
    "plt.xlabel(\"Region\")\n",
    "plt.ylabel(\"No of Instances\")"
   ]
  },
  {
   "cell_type": "markdown",
   "id": "1b0cdf9e-b47e-406f-bcbe-2994ef620aae",
   "metadata": {},
   "source": [
    "Observations :\n",
    "- A region would have the same region code but can have different **district** code."
   ]
  },
  {
   "cell_type": "markdown",
   "id": "dc319a76-46e7-416e-9fbc-ce24d9afeb21",
   "metadata": {},
   "source": [
    "## 2.6 Public Meeting"
   ]
  },
  {
   "cell_type": "code",
   "execution_count": 23,
   "id": "39854251-5a21-4c7d-b0e4-741aeb44e448",
   "metadata": {},
   "outputs": [
    {
     "data": {
      "text/plain": [
       "array([True, nan, False], dtype=object)"
      ]
     },
     "execution_count": 23,
     "metadata": {},
     "output_type": "execute_result"
    }
   ],
   "source": [
    "df_combined['public_meeting'].unique()"
   ]
  },
  {
   "cell_type": "code",
   "execution_count": 24,
   "id": "6c565a57-0547-42f5-99de-7b8906e14381",
   "metadata": {},
   "outputs": [
    {
     "data": {
      "text/plain": [
       "3334"
      ]
     },
     "execution_count": 24,
     "metadata": {},
     "output_type": "execute_result"
    }
   ],
   "source": [
    "df_combined['public_meeting'].isna().sum()"
   ]
  },
  {
   "cell_type": "code",
   "execution_count": 25,
   "id": "10e43091-913c-4e5d-83c6-9b313610a636",
   "metadata": {},
   "outputs": [
    {
     "data": {
      "text/plain": [
       "True     51011\n",
       "False     5055\n",
       "Name: public_meeting, dtype: int64"
      ]
     },
     "execution_count": 25,
     "metadata": {},
     "output_type": "execute_result"
    }
   ],
   "source": [
    "df_combined['public_meeting'].value_counts()"
   ]
  },
  {
   "cell_type": "code",
   "execution_count": 26,
   "id": "fa358b88-f8e1-44cc-a5df-bc773b6ed632",
   "metadata": {},
   "outputs": [
    {
     "data": {
      "text/plain": [
       "Text(0, 0.5, 'No of Instances')"
      ]
     },
     "execution_count": 26,
     "metadata": {},
     "output_type": "execute_result"
    },
    {
     "data": {
      "image/png": "[encoded data removed]",
      "text/plain": [
       "<Figure size 432x288 with 1 Axes>"
      ]
     },
     "metadata": {
      "needs_background": "light"
     },
     "output_type": "display_data"
    }
   ],
   "source": [
    "df_combined['public_meeting'].value_counts().plot(kind=\"bar\")\n",
    "plt.xlabel(\"True / False\")\n",
    "plt.ylabel(\"No of Instances\")"
   ]
  },
  {
   "cell_type": "markdown",
   "id": "37918b47-ff4f-4afe-a5e3-37dcecb62a29",
   "metadata": {},
   "source": [
    "Observations :\n",
    "- **3334** rows of NaN data.\n",
    "- Two elements only True or False.\n",
    "- Likely to be **not important**."
   ]
  },
  {
   "cell_type": "markdown",
   "id": "4e0346be-42df-4415-84a4-602b7beea8ed",
   "metadata": {},
   "source": [
    "## 2.7 Scheme Management"
   ]
  },
  {
   "cell_type": "code",
   "execution_count": 27,
   "id": "e7775ee0-da05-478f-a6e2-db6bd456aa0e",
   "metadata": {},
   "outputs": [
    {
     "data": {
      "text/plain": [
       "array(['VWC', 'Other', nan, 'Private operator', 'WUG', 'Water Board',\n",
       "       'WUA', 'Water authority', 'Company', 'Parastatal', 'Trust', 'SWC',\n",
       "       'None'], dtype=object)"
      ]
     },
     "execution_count": 27,
     "metadata": {},
     "output_type": "execute_result"
    }
   ],
   "source": [
    "df_combined['scheme_management'].unique()"
   ]
  },
  {
   "cell_type": "code",
   "execution_count": 28,
   "id": "b415e4d3-683a-4591-8c0e-fbde0ca82149",
   "metadata": {},
   "outputs": [
    {
     "data": {
      "text/plain": [
       "3877"
      ]
     },
     "execution_count": 28,
     "metadata": {},
     "output_type": "execute_result"
    }
   ],
   "source": [
    "df_combined['scheme_management'].isna().sum()"
   ]
  },
  {
   "cell_type": "code",
   "execution_count": 29,
   "id": "12a01d85-a5e0-4376-b4bd-1c2ea9606098",
   "metadata": {},
   "outputs": [
    {
     "data": {
      "text/plain": [
       "VWC                 36793\n",
       "WUG                  5206\n",
       "Water authority      3153\n",
       "WUA                  2883\n",
       "Water Board          2748\n",
       "Parastatal           1680\n",
       "Private operator     1063\n",
       "Company              1061\n",
       "Other                 766\n",
       "SWC                    97\n",
       "Trust                  72\n",
       "None                    1\n",
       "Name: scheme_management, dtype: int64"
      ]
     },
     "execution_count": 29,
     "metadata": {},
     "output_type": "execute_result"
    }
   ],
   "source": [
    "df_combined['scheme_management'].value_counts()"
   ]
  },
  {
   "cell_type": "code",
   "execution_count": 30,
   "id": "c2160b43-ceaa-4601-8b48-c1875652d15c",
   "metadata": {},
   "outputs": [
    {
     "data": {
      "text/plain": [
       "Text(0, 0.5, 'No of Instances')"
      ]
     },
     "execution_count": 30,
     "metadata": {},
     "output_type": "execute_result"
    },
    {
     "data": {
      "image/png": "[encoded data removed]",
      "text/plain": [
       "<Figure size 432x288 with 1 Axes>"
      ]
     },
     "metadata": {
      "needs_background": "light"
     },
     "output_type": "display_data"
    }
   ],
   "source": [
    "df_combined['scheme_management'].value_counts().plot(kind=\"bar\")\n",
    "plt.xlabel(\"Scheme Manager\")\n",
    "plt.ylabel(\"No of Instances\")"
   ]
  },
  {
   "cell_type": "markdown",
   "id": "422b3fab-a3d3-4650-9446-edb0eabb1a76",
   "metadata": {},
   "source": [
    "Observations :\n",
    "- **3877** rows of NaN data.\n",
    "- Data is relatively clean.\n",
    "- scheme_management may not have a scheme_name for each water well altough operated by the same provider\n",
    "\n",
    "Suggestions :\n",
    "- Perform data imputation on scheme_management through multivariate chained imputation.\n",
    "- Use scheme_management and drop **scheme_name** if required."
   ]
  },
  {
   "cell_type": "markdown",
   "id": "ecdedacd-df3b-4bb8-a3af-33dfcc46f7df",
   "metadata": {},
   "source": [
    "## 2.8 Permit"
   ]
  },
  {
   "cell_type": "code",
   "execution_count": 31,
   "id": "7db62a94-010a-47a0-9da6-a244c0d3d453",
   "metadata": {},
   "outputs": [
    {
     "data": {
      "text/plain": [
       "array([False, True, nan], dtype=object)"
      ]
     },
     "execution_count": 31,
     "metadata": {},
     "output_type": "execute_result"
    }
   ],
   "source": [
    "df_combined['permit'].unique()"
   ]
  },
  {
   "cell_type": "code",
   "execution_count": 32,
   "id": "20467d37-422c-4e1f-9a38-f81d9d9f807f",
   "metadata": {},
   "outputs": [
    {
     "data": {
      "text/plain": [
       "3056"
      ]
     },
     "execution_count": 32,
     "metadata": {},
     "output_type": "execute_result"
    }
   ],
   "source": [
    "df_combined['permit'].isna().sum()"
   ]
  },
  {
   "cell_type": "code",
   "execution_count": 33,
   "id": "0bffb92e-47dc-42dc-929b-db5c5481a877",
   "metadata": {},
   "outputs": [
    {
     "data": {
      "text/plain": [
       "True     38852\n",
       "False    17492\n",
       "Name: permit, dtype: int64"
      ]
     },
     "execution_count": 33,
     "metadata": {},
     "output_type": "execute_result"
    }
   ],
   "source": [
    "df_combined['permit'].value_counts()"
   ]
  },
  {
   "cell_type": "code",
   "execution_count": 34,
   "id": "473e63a4-1011-4726-978a-89c3c22a9e95",
   "metadata": {},
   "outputs": [
    {
     "data": {
      "text/plain": [
       "Text(0, 0.5, 'No of Instances')"
      ]
     },
     "execution_count": 34,
     "metadata": {},
     "output_type": "execute_result"
    },
    {
     "data": {
      "image/png": "[encoded data removed]",
      "text/plain": [
       "<Figure size 432x288 with 1 Axes>"
      ]
     },
     "metadata": {
      "needs_background": "light"
     },
     "output_type": "display_data"
    }
   ],
   "source": [
    "df_combined['permit'].value_counts().plot(kind=\"bar\")\n",
    "plt.xlabel(\"True / False\")\n",
    "plt.ylabel(\"No of Instances\")"
   ]
  },
  {
   "cell_type": "markdown",
   "id": "b4613b07-ae55-4e2a-9499-272d01ea6b5f",
   "metadata": {},
   "source": [
    "Observations :\n",
    "- **3056** rows of NaN data.\n",
    "- Two categories only : True or False\n",
    "\n",
    "Suggestions :\n",
    "- Could be dropped if not important."
   ]
  },
  {
   "cell_type": "markdown",
   "id": "2bd5e574-7276-4bb6-b3eb-5395415b7f57",
   "metadata": {},
   "source": [
    "## 2.9 Construction Year"
   ]
  },
  {
   "cell_type": "code",
   "execution_count": 35,
   "id": "ba4fa76b-00ba-4c25-b205-0c3eb0cb5b73",
   "metadata": {},
   "outputs": [
    {
     "data": {
      "text/plain": [
       "array([   0, 1960, 1961, 1962, 1963, 1964, 1965, 1966, 1967, 1968, 1969,\n",
       "       1970, 1971, 1972, 1973, 1974, 1975, 1976, 1977, 1978, 1979, 1980,\n",
       "       1981, 1982, 1983, 1984, 1985, 1986, 1987, 1988, 1989, 1990, 1991,\n",
       "       1992, 1993, 1994, 1995, 1996, 1997, 1998, 1999, 2000, 2001, 2002,\n",
       "       2003, 2004, 2005, 2006, 2007, 2008, 2009, 2010, 2011, 2012, 2013])"
      ]
     },
     "execution_count": 35,
     "metadata": {},
     "output_type": "execute_result"
    }
   ],
   "source": [
    "df_combined.sort_values(by='construction_year', inplace=True)\n",
    "df_combined['construction_year'].unique()"
   ]
  },
  {
   "cell_type": "code",
   "execution_count": 36,
   "id": "20c3637e-e6a0-4c68-b110-0d20a65d5e92",
   "metadata": {},
   "outputs": [
    {
     "data": {
      "text/plain": [
       "0       20709\n",
       "2010     2645\n",
       "2008     2613\n",
       "2009     2533\n",
       "2000     2091\n",
       "2007     1587\n",
       "2006     1471\n",
       "2003     1286\n",
       "2011     1256\n",
       "2004     1123\n",
       "2012     1084\n",
       "2002     1075\n",
       "1978     1037\n",
       "1995     1014\n",
       "2005     1011\n",
       "1999      979\n",
       "1998      966\n",
       "1990      954\n",
       "1985      945\n",
       "1980      811\n",
       "1996      811\n",
       "1984      779\n",
       "1982      744\n",
       "1994      738\n",
       "1972      708\n",
       "1974      676\n",
       "1997      644\n",
       "1992      640\n",
       "1993      608\n",
       "2001      540\n",
       "1988      521\n",
       "1983      488\n",
       "1975      437\n",
       "1986      434\n",
       "1976      414\n",
       "1970      411\n",
       "1991      324\n",
       "1989      316\n",
       "1987      302\n",
       "1981      238\n",
       "1977      202\n",
       "1979      192\n",
       "1973      184\n",
       "2013      176\n",
       "1971      145\n",
       "1960      102\n",
       "1967       88\n",
       "1963       85\n",
       "1968       77\n",
       "1969       59\n",
       "1964       40\n",
       "1962       30\n",
       "1961       21\n",
       "1965       19\n",
       "1966       17\n",
       "Name: construction_year, dtype: int64"
      ]
     },
     "execution_count": 36,
     "metadata": {},
     "output_type": "execute_result"
    }
   ],
   "source": [
    "df_combined['construction_year'].value_counts()"
   ]
  },
  {
   "cell_type": "code",
   "execution_count": 37,
   "id": "a540fbd1-ab47-49e5-82cf-0fa8a1b3ab09",
   "metadata": {},
   "outputs": [
    {
     "data": {
      "text/plain": [
       "Text(0, 0.5, 'No of Instances')"
      ]
     },
     "execution_count": 37,
     "metadata": {},
     "output_type": "execute_result"
    },
    {
     "data": {
      "image/png": "[encoded data removed]",
      "text/plain": [
       "<Figure size 720x360 with 1 Axes>"
      ]
     },
     "metadata": {
      "needs_background": "light"
     },
     "output_type": "display_data"
    }
   ],
   "source": [
    "plt.figure(figsize=(10,5))\n",
    "df_combined['construction_year'].value_counts().plot(kind=\"bar\")\n",
    "plt.xlabel(\"Year\")\n",
    "plt.ylabel(\"No of Instances\")"
   ]
  },
  {
   "cell_type": "markdown",
   "id": "bb3edf70-bd21-4e54-8503-36b048097091",
   "metadata": {},
   "source": [
    "Observations :\n",
    "- Approximately **40%** of rows has construction year of value **0**.\n",
    "\n",
    "Suggestions :\n",
    "- Perform data imputation.\n",
    "- Remain as it is as last resort."
   ]
  },
  {
   "cell_type": "markdown",
   "id": "9d285685-12a2-4de9-b80f-79710950d39b",
   "metadata": {},
   "source": [
    "## 2.10 Extraction_Type / Extraction_Type_Group / Extraction_Type_Class"
   ]
  },
  {
   "cell_type": "code",
   "execution_count": 38,
   "id": "f76f2f7e-15a1-4965-a76c-afc04ce689df",
   "metadata": {},
   "outputs": [
    {
     "data": {
      "text/plain": [
       "array(['afridev', 'cemo', 'climax', 'gravity', 'india mark ii',\n",
       "       'india mark iii', 'ksb', 'mono', 'nira/tanira', 'other',\n",
       "       'other - mkulima/shinyanga', 'other - play pump',\n",
       "       'other - rope pump', 'other - swn 81', 'submersible', 'swn 80',\n",
       "       'walimi', 'windmill'], dtype=object)"
      ]
     },
     "execution_count": 38,
     "metadata": {},
     "output_type": "execute_result"
    }
   ],
   "source": [
    "df_combined.sort_values(by='extraction_type', inplace=True)\n",
    "df_combined['extraction_type'].unique()"
   ]
  },
  {
   "cell_type": "code",
   "execution_count": 39,
   "id": "ea00a15e-5fc5-4204-ac92-3d7306039158",
   "metadata": {},
   "outputs": [
    {
     "data": {
      "text/plain": [
       "gravity                      26780\n",
       "nira/tanira                   8154\n",
       "other                         6430\n",
       "submersible                   4764\n",
       "swn 80                        3670\n",
       "mono                          2865\n",
       "india mark ii                 2400\n",
       "afridev                       1770\n",
       "ksb                           1415\n",
       "other - rope pump              451\n",
       "other - swn 81                 229\n",
       "windmill                       117\n",
       "india mark iii                  98\n",
       "cemo                            90\n",
       "other - play pump               85\n",
       "walimi                          48\n",
       "climax                          32\n",
       "other - mkulima/shinyanga        2\n",
       "Name: extraction_type, dtype: int64"
      ]
     },
     "execution_count": 39,
     "metadata": {},
     "output_type": "execute_result"
    }
   ],
   "source": [
    "df_combined['extraction_type'].value_counts()"
   ]
  },
  {
   "cell_type": "code",
   "execution_count": 40,
   "id": "997ae1aa-823b-4e42-87a8-e062a8ce81d9",
   "metadata": {},
   "outputs": [
    {
     "data": {
      "text/plain": [
       "18"
      ]
     },
     "execution_count": 40,
     "metadata": {},
     "output_type": "execute_result"
    }
   ],
   "source": [
    "len(df_combined['extraction_type'].unique())"
   ]
  },
  {
   "cell_type": "code",
   "execution_count": 41,
   "id": "2ba37a33-a0a6-499b-90b4-5b1543165ef0",
   "metadata": {},
   "outputs": [
    {
     "data": {
      "text/plain": [
       "Text(0, 0.5, 'No of Instances')"
      ]
     },
     "execution_count": 41,
     "metadata": {},
     "output_type": "execute_result"
    },
    {
     "data": {
      "image/png": "[encoded data removed]",
      "text/plain": [
       "<Figure size 432x288 with 1 Axes>"
      ]
     },
     "metadata": {
      "needs_background": "light"
     },
     "output_type": "display_data"
    }
   ],
   "source": [
    "df_combined['extraction_type'].value_counts().plot(kind=\"bar\")\n",
    "plt.xlabel(\"Extraction Type\")\n",
    "plt.ylabel(\"No of Instances\")"
   ]
  },
  {
   "cell_type": "code",
   "execution_count": 42,
   "id": "9e100d72-37b1-4b05-903f-0cf19bedc389",
   "metadata": {},
   "outputs": [
    {
     "data": {
      "text/plain": [
       "array(['afridev', 'gravity', 'india mark ii', 'india mark iii', 'mono',\n",
       "       'nira/tanira', 'other', 'other handpump', 'other motorpump',\n",
       "       'rope pump', 'submersible', 'swn 80', 'wind-powered'], dtype=object)"
      ]
     },
     "execution_count": 42,
     "metadata": {},
     "output_type": "execute_result"
    }
   ],
   "source": [
    "df_combined.sort_values(by='extraction_type_group', inplace=True)\n",
    "df_combined['extraction_type_group'].unique()"
   ]
  },
  {
   "cell_type": "code",
   "execution_count": 43,
   "id": "498d322f-4a72-4661-be1a-cc0eff1120d0",
   "metadata": {},
   "outputs": [
    {
     "data": {
      "text/plain": [
       "gravity            26780\n",
       "nira/tanira         8154\n",
       "other               6430\n",
       "submersible         6179\n",
       "swn 80              3670\n",
       "mono                2865\n",
       "india mark ii       2400\n",
       "afridev             1770\n",
       "rope pump            451\n",
       "other handpump       364\n",
       "other motorpump      122\n",
       "wind-powered         117\n",
       "india mark iii        98\n",
       "Name: extraction_type_group, dtype: int64"
      ]
     },
     "execution_count": 43,
     "metadata": {},
     "output_type": "execute_result"
    }
   ],
   "source": [
    "df_combined['extraction_type_group'].value_counts()"
   ]
  },
  {
   "cell_type": "code",
   "execution_count": 44,
   "id": "c91a486e-7dde-4e20-a578-ad0df475d69e",
   "metadata": {},
   "outputs": [
    {
     "data": {
      "text/plain": [
       "13"
      ]
     },
     "execution_count": 44,
     "metadata": {},
     "output_type": "execute_result"
    }
   ],
   "source": [
    "len(df_combined['extraction_type_group'].unique())"
   ]
  },
  {
   "cell_type": "code",
   "execution_count": 45,
   "id": "be2f03f2-4a1c-4a99-8fcf-03970b7cd37f",
   "metadata": {},
   "outputs": [
    {
     "data": {
      "text/plain": [
       "Text(0, 0.5, 'No of Instances')"
      ]
     },
     "execution_count": 45,
     "metadata": {},
     "output_type": "execute_result"
    },
    {
     "data": {
      "image/png": "[encoded data removed]",
      "text/plain": [
       "<Figure size 432x288 with 1 Axes>"
      ]
     },
     "metadata": {
      "needs_background": "light"
     },
     "output_type": "display_data"
    }
   ],
   "source": [
    "df_combined['extraction_type_group'].value_counts().plot(kind=\"bar\")\n",
    "plt.xlabel(\"Extraction Type Group\")\n",
    "plt.ylabel(\"No of Instances\")"
   ]
  },
  {
   "cell_type": "code",
   "execution_count": 46,
   "id": "fdfa480b-b920-46bb-bc63-836ac1eb8ec0",
   "metadata": {},
   "outputs": [
    {
     "data": {
      "text/plain": [
       "array(['gravity', 'handpump', 'motorpump', 'other', 'rope pump',\n",
       "       'submersible', 'wind-powered'], dtype=object)"
      ]
     },
     "execution_count": 46,
     "metadata": {},
     "output_type": "execute_result"
    }
   ],
   "source": [
    "df_combined.sort_values(by='extraction_type_class', inplace=True)\n",
    "df_combined['extraction_type_class'].unique()"
   ]
  },
  {
   "cell_type": "code",
   "execution_count": 47,
   "id": "68e75b07-5ec4-4ed0-9ce8-9db1c73d15d0",
   "metadata": {},
   "outputs": [
    {
     "data": {
      "text/plain": [
       "gravity         26780\n",
       "handpump        16456\n",
       "other            6430\n",
       "submersible      6179\n",
       "motorpump        2987\n",
       "rope pump         451\n",
       "wind-powered      117\n",
       "Name: extraction_type_class, dtype: int64"
      ]
     },
     "execution_count": 47,
     "metadata": {},
     "output_type": "execute_result"
    }
   ],
   "source": [
    "df_combined['extraction_type_class'].value_counts()"
   ]
  },
  {
   "cell_type": "code",
   "execution_count": 48,
   "id": "c678be42-5643-44ac-87ab-5c12797aee44",
   "metadata": {},
   "outputs": [
    {
     "data": {
      "text/plain": [
       "7"
      ]
     },
     "execution_count": 48,
     "metadata": {},
     "output_type": "execute_result"
    }
   ],
   "source": [
    "len(df_combined['extraction_type_class'].unique())"
   ]
  },
  {
   "cell_type": "code",
   "execution_count": 49,
   "id": "0439186f-990e-40a2-911f-eb83f99273d7",
   "metadata": {},
   "outputs": [
    {
     "data": {
      "text/plain": [
       "Text(0, 0.5, 'No of Instances')"
      ]
     },
     "execution_count": 49,
     "metadata": {},
     "output_type": "execute_result"
    },
    {
     "data": {
      "image/png": "[encoded data removed]",
      "text/plain": [
       "<Figure size 432x288 with 1 Axes>"
      ]
     },
     "metadata": {
      "needs_background": "light"
     },
     "output_type": "display_data"
    }
   ],
   "source": [
    "df_combined['extraction_type_class'].value_counts().plot(kind=\"bar\")\n",
    "plt.xlabel(\"Extraction Type Class\")\n",
    "plt.ylabel(\"No of Instances\")"
   ]
  },
  {
   "cell_type": "markdown",
   "id": "0e0fbc0e-4041-4029-b52b-c60891c23d10",
   "metadata": {},
   "source": [
    "Observations :\n",
    "- extraction_type has **18** categories.\n",
    "- extraction_type_group has **13** categories.\n",
    "- extraction_type_class has **7** categories.\n",
    "- All 3 columns represent the extraction method the waterpoint uses.\n",
    "\n",
    "Suggestions :\n",
    "- Use **extraction_type_class** as it could represent the dataset in least number of categories.\n",
    "- Drop **extraction_type** and **extraction_type_group**."
   ]
  },
  {
   "cell_type": "markdown",
   "id": "f7e75a47-0e5c-4e04-a62b-98416b10d6b3",
   "metadata": {},
   "source": [
    "## 2.11 Management / Management_Group"
   ]
  },
  {
   "cell_type": "code",
   "execution_count": 50,
   "id": "26ebba93-7ac4-4ead-9592-03045bd80fbf",
   "metadata": {},
   "outputs": [
    {
     "data": {
      "text/plain": [
       "array(['company', 'other', 'other - school', 'parastatal',\n",
       "       'private operator', 'trust', 'unknown', 'vwc', 'water authority',\n",
       "       'water board', 'wua', 'wug'], dtype=object)"
      ]
     },
     "execution_count": 50,
     "metadata": {},
     "output_type": "execute_result"
    }
   ],
   "source": [
    "df_combined.sort_values(by='management', inplace=True)\n",
    "df_combined['management'].unique()"
   ]
  },
  {
   "cell_type": "code",
   "execution_count": 51,
   "id": "67bfdfd6-e56c-4ea1-bbca-5e1a7b7cb940",
   "metadata": {},
   "outputs": [
    {
     "data": {
      "text/plain": [
       "vwc                 40507\n",
       "wug                  6515\n",
       "water board          2933\n",
       "wua                  2535\n",
       "private operator     1971\n",
       "parastatal           1768\n",
       "water authority       904\n",
       "other                 844\n",
       "company               685\n",
       "unknown               561\n",
       "other - school         99\n",
       "trust                  78\n",
       "Name: management, dtype: int64"
      ]
     },
     "execution_count": 51,
     "metadata": {},
     "output_type": "execute_result"
    }
   ],
   "source": [
    "df_combined['management'].value_counts()"
   ]
  },
  {
   "cell_type": "code",
   "execution_count": 52,
   "id": "492dae22-02b5-4e0a-9c08-21d1ab6b655b",
   "metadata": {},
   "outputs": [
    {
     "data": {
      "text/plain": [
       "12"
      ]
     },
     "execution_count": 52,
     "metadata": {},
     "output_type": "execute_result"
    }
   ],
   "source": [
    "len(df_combined['management'].unique())"
   ]
  },
  {
   "cell_type": "code",
   "execution_count": 53,
   "id": "884d7153-92e5-494f-87c0-076091354d16",
   "metadata": {},
   "outputs": [
    {
     "data": {
      "text/plain": [
       "Text(0, 0.5, 'No of Instances')"
      ]
     },
     "execution_count": 53,
     "metadata": {},
     "output_type": "execute_result"
    },
    {
     "data": {
      "image/png": "[encoded data removed]",
      "text/plain": [
       "<Figure size 432x288 with 1 Axes>"
      ]
     },
     "metadata": {
      "needs_background": "light"
     },
     "output_type": "display_data"
    }
   ],
   "source": [
    "df_combined['management'].value_counts().plot(kind=\"bar\")\n",
    "plt.xlabel(\"Management Body\")\n",
    "plt.ylabel(\"No of Instances\")"
   ]
  },
  {
   "cell_type": "code",
   "execution_count": 103,
   "id": "cb565756-c23d-421c-b971-5da4e06b8975",
   "metadata": {},
   "outputs": [
    {
     "data": {
      "text/plain": [
       "array(['commercial', 'other', 'parastatal', 'unknown', 'user-group'],\n",
       "      dtype=object)"
      ]
     },
     "execution_count": 103,
     "metadata": {},
     "output_type": "execute_result"
    }
   ],
   "source": [
    "df_combined.sort_values(by='management_group', inplace=True)\n",
    "df_combined['management_group'].unique()"
   ]
  },
  {
   "cell_type": "code",
   "execution_count": 55,
   "id": "60e167bc-1c6f-45bd-a006-416a6be1f964",
   "metadata": {},
   "outputs": [
    {
     "data": {
      "text/plain": [
       "user-group    52490\n",
       "commercial     3638\n",
       "parastatal     1768\n",
       "other           943\n",
       "unknown         561\n",
       "Name: management_group, dtype: int64"
      ]
     },
     "execution_count": 55,
     "metadata": {},
     "output_type": "execute_result"
    }
   ],
   "source": [
    "df_combined['management_group'].value_counts()"
   ]
  },
  {
   "cell_type": "code",
   "execution_count": 56,
   "id": "4c3d1670-dd13-4870-8553-2a8964cd8468",
   "metadata": {},
   "outputs": [
    {
     "data": {
      "text/plain": [
       "5"
      ]
     },
     "execution_count": 56,
     "metadata": {},
     "output_type": "execute_result"
    }
   ],
   "source": [
    "len(df_combined['management_group'].unique())"
   ]
  },
  {
   "cell_type": "code",
   "execution_count": 57,
   "id": "d3b12714-0a63-4097-9d53-d3e61269b1ea",
   "metadata": {},
   "outputs": [
    {
     "data": {
      "text/plain": [
       "Text(0, 0.5, 'No of Instances')"
      ]
     },
     "execution_count": 57,
     "metadata": {},
     "output_type": "execute_result"
    },
    {
     "data": {
      "image/png": "[encoded data removed]",
      "text/plain": [
       "<Figure size 432x288 with 1 Axes>"
      ]
     },
     "metadata": {
      "needs_background": "light"
     },
     "output_type": "display_data"
    }
   ],
   "source": [
    "df_combined['management_group'].value_counts().plot(kind=\"bar\")\n",
    "plt.xlabel(\"Management Group\")\n",
    "plt.ylabel(\"No of Instances\")"
   ]
  },
  {
   "cell_type": "markdown",
   "id": "eab2502f-9019-4495-a369-58289f4a8205",
   "metadata": {},
   "source": [
    "Observations :\n",
    "- extraction_type has **12** categories.\n",
    "- extraction_type_group has **5** categories.\n",
    "- Both columns represent the management of waterpoint.\n",
    "\n",
    "Suggestions :\n",
    "- Use management_group column and drop management column."
   ]
  },
  {
   "cell_type": "markdown",
   "id": "13553449-b402-4ce2-9f07-2e58698e6a24",
   "metadata": {},
   "source": [
    "## 2.12 Payment / Payment_Type"
   ]
  },
  {
   "cell_type": "code",
   "execution_count": 58,
   "id": "9e50c7b7-3114-4cde-a9af-7b5d02035433",
   "metadata": {},
   "outputs": [
    {
     "data": {
      "text/plain": [
       "array(['never pay', 'other', 'pay annually', 'pay monthly',\n",
       "       'pay per bucket', 'pay when scheme fails', 'unknown'], dtype=object)"
      ]
     },
     "execution_count": 58,
     "metadata": {},
     "output_type": "execute_result"
    }
   ],
   "source": [
    "df_combined.sort_values(by='payment', inplace=True)\n",
    "df_combined['payment'].unique()"
   ]
  },
  {
   "cell_type": "code",
   "execution_count": 59,
   "id": "3d14d918-462c-4aec-8f33-a95b4628d70a",
   "metadata": {},
   "outputs": [
    {
     "data": {
      "text/plain": [
       "never pay                25348\n",
       "pay per bucket            8985\n",
       "pay monthly               8300\n",
       "unknown                   8157\n",
       "pay when scheme fails     3914\n",
       "pay annually              3642\n",
       "other                     1054\n",
       "Name: payment, dtype: int64"
      ]
     },
     "execution_count": 59,
     "metadata": {},
     "output_type": "execute_result"
    }
   ],
   "source": [
    "df_combined['payment'].value_counts()"
   ]
  },
  {
   "cell_type": "code",
   "execution_count": 60,
   "id": "687fb38a-71ee-4aca-a714-1bc7624834a4",
   "metadata": {},
   "outputs": [
    {
     "data": {
      "text/plain": [
       "7"
      ]
     },
     "execution_count": 60,
     "metadata": {},
     "output_type": "execute_result"
    }
   ],
   "source": [
    "len(df_combined['payment'].unique())"
   ]
  },
  {
   "cell_type": "code",
   "execution_count": 61,
   "id": "1d29301f-ef5d-4f28-bc03-67794bf350c2",
   "metadata": {},
   "outputs": [
    {
     "data": {
      "text/plain": [
       "Text(0, 0.5, 'No of Instances')"
      ]
     },
     "execution_count": 61,
     "metadata": {},
     "output_type": "execute_result"
    },
    {
     "data": {
      "image/png": "[encoded data removed]",
      "text/plain": [
       "<Figure size 432x288 with 1 Axes>"
      ]
     },
     "metadata": {
      "needs_background": "light"
     },
     "output_type": "display_data"
    }
   ],
   "source": [
    "df_combined['payment'].value_counts().plot(kind=\"bar\")\n",
    "plt.xlabel(\"Payment\")\n",
    "plt.ylabel(\"No of Instances\")"
   ]
  },
  {
   "cell_type": "code",
   "execution_count": 62,
   "id": "6107858c-c72a-45d4-b278-f2a040c81108",
   "metadata": {},
   "outputs": [
    {
     "data": {
      "text/plain": [
       "array(['annually', 'monthly', 'never pay', 'on failure', 'other',\n",
       "       'per bucket', 'unknown'], dtype=object)"
      ]
     },
     "execution_count": 62,
     "metadata": {},
     "output_type": "execute_result"
    }
   ],
   "source": [
    "df_combined.sort_values(by='payment_type', inplace=True)\n",
    "df_combined['payment_type'].unique()"
   ]
  },
  {
   "cell_type": "code",
   "execution_count": 63,
   "id": "1a875104-e3f1-4f71-8f0e-57f20676fe70",
   "metadata": {},
   "outputs": [
    {
     "data": {
      "text/plain": [
       "never pay     25348\n",
       "per bucket     8985\n",
       "monthly        8300\n",
       "unknown        8157\n",
       "on failure     3914\n",
       "annually       3642\n",
       "other          1054\n",
       "Name: payment_type, dtype: int64"
      ]
     },
     "execution_count": 63,
     "metadata": {},
     "output_type": "execute_result"
    }
   ],
   "source": [
    "df_combined['payment_type'].value_counts()"
   ]
  },
  {
   "cell_type": "code",
   "execution_count": 64,
   "id": "a4c15925-8e60-4c01-ad99-b884bb21180c",
   "metadata": {},
   "outputs": [
    {
     "data": {
      "text/plain": [
       "7"
      ]
     },
     "execution_count": 64,
     "metadata": {},
     "output_type": "execute_result"
    }
   ],
   "source": [
    "len(df_combined['payment_type'].unique())"
   ]
  },
  {
   "cell_type": "code",
   "execution_count": 65,
   "id": "6b7fae77-b3fe-4699-a85c-55091dd03fab",
   "metadata": {},
   "outputs": [
    {
     "data": {
      "text/plain": [
       "Text(0, 0.5, 'No of Instances')"
      ]
     },
     "execution_count": 65,
     "metadata": {},
     "output_type": "execute_result"
    },
    {
     "data": {
      "image/png": "[encoded data removed]",
      "text/plain": [
       "<Figure size 432x288 with 1 Axes>"
      ]
     },
     "metadata": {
      "needs_background": "light"
     },
     "output_type": "display_data"
    }
   ],
   "source": [
    "df_combined['payment_type'].value_counts().plot(kind=\"bar\")\n",
    "plt.xlabel(\"Payment Type\")\n",
    "plt.ylabel(\"No of Instances\")"
   ]
  },
  {
   "cell_type": "markdown",
   "id": "8ee965b4-68da-4ed2-be4f-6c95aad81992",
   "metadata": {},
   "source": [
    "Observations :\n",
    "- Both **payment** and **payment_type** columns represent the same values.\n",
    "- Both columns have the same number of classess at **7**.\n",
    "\n",
    "Suggestions :\n",
    "- Select either one and drop the other. (if applicable)"
   ]
  },
  {
   "cell_type": "markdown",
   "id": "b266a479-cc5e-4dfd-851b-664c0551c2a5",
   "metadata": {},
   "source": [
    "## 2.13 Water_Quality / Quality_Group"
   ]
  },
  {
   "cell_type": "code",
   "execution_count": 66,
   "id": "094fc725-708f-43d7-9418-cf5199864137",
   "metadata": {},
   "outputs": [
    {
     "data": {
      "text/plain": [
       "array(['coloured', 'fluoride', 'fluoride abandoned', 'milky', 'salty',\n",
       "       'salty abandoned', 'soft', 'unknown'], dtype=object)"
      ]
     },
     "execution_count": 66,
     "metadata": {},
     "output_type": "execute_result"
    }
   ],
   "source": [
    "df_combined.sort_values(by='water_quality', inplace=True)\n",
    "df_combined['water_quality'].unique()"
   ]
  },
  {
   "cell_type": "code",
   "execution_count": 67,
   "id": "7d801432-e0a7-4418-ab39-127376cc0867",
   "metadata": {},
   "outputs": [
    {
     "data": {
      "text/plain": [
       "soft                  50818\n",
       "salty                  4856\n",
       "unknown                1876\n",
       "milky                   804\n",
       "coloured                490\n",
       "salty abandoned         339\n",
       "fluoride                200\n",
       "fluoride abandoned       17\n",
       "Name: water_quality, dtype: int64"
      ]
     },
     "execution_count": 67,
     "metadata": {},
     "output_type": "execute_result"
    }
   ],
   "source": [
    "df_combined['water_quality'].value_counts()"
   ]
  },
  {
   "cell_type": "code",
   "execution_count": 68,
   "id": "42a3a3db-a373-4126-ab0a-ad76669a5ab1",
   "metadata": {},
   "outputs": [
    {
     "data": {
      "text/plain": [
       "8"
      ]
     },
     "execution_count": 68,
     "metadata": {},
     "output_type": "execute_result"
    }
   ],
   "source": [
    "len(df_combined['water_quality'].unique())"
   ]
  },
  {
   "cell_type": "code",
   "execution_count": 69,
   "id": "8f68b9f2-5037-4b6e-a698-d152d079ea6c",
   "metadata": {},
   "outputs": [
    {
     "data": {
      "text/plain": [
       "Text(0, 0.5, 'No of Instances')"
      ]
     },
     "execution_count": 69,
     "metadata": {},
     "output_type": "execute_result"
    },
    {
     "data": {
      "image/png": "[encoded data removed]",
      "text/plain": [
       "<Figure size 432x288 with 1 Axes>"
      ]
     },
     "metadata": {
      "needs_background": "light"
     },
     "output_type": "display_data"
    }
   ],
   "source": [
    "df_combined['water_quality'].value_counts().plot(kind=\"bar\")\n",
    "plt.xlabel(\"Water Quality\")\n",
    "plt.ylabel(\"No of Instances\")"
   ]
  },
  {
   "cell_type": "code",
   "execution_count": 70,
   "id": "b4773557-ab93-4c47-8c07-7efa38eccbf0",
   "metadata": {},
   "outputs": [
    {
     "data": {
      "text/plain": [
       "array(['colored', 'fluoride', 'good', 'milky', 'salty', 'unknown'],\n",
       "      dtype=object)"
      ]
     },
     "execution_count": 70,
     "metadata": {},
     "output_type": "execute_result"
    }
   ],
   "source": [
    "df_combined.sort_values(by='quality_group', inplace=True)\n",
    "df_combined['quality_group'].unique()"
   ]
  },
  {
   "cell_type": "code",
   "execution_count": 71,
   "id": "61803bbc-534c-4de5-99a3-03826104781d",
   "metadata": {},
   "outputs": [
    {
     "data": {
      "text/plain": [
       "good        50818\n",
       "salty        5195\n",
       "unknown      1876\n",
       "milky         804\n",
       "colored       490\n",
       "fluoride      217\n",
       "Name: quality_group, dtype: int64"
      ]
     },
     "execution_count": 71,
     "metadata": {},
     "output_type": "execute_result"
    }
   ],
   "source": [
    "df_combined['quality_group'].value_counts()"
   ]
  },
  {
   "cell_type": "code",
   "execution_count": 72,
   "id": "2cb35191-af55-4a68-9848-3aab3434d25a",
   "metadata": {},
   "outputs": [
    {
     "data": {
      "text/plain": [
       "6"
      ]
     },
     "execution_count": 72,
     "metadata": {},
     "output_type": "execute_result"
    }
   ],
   "source": [
    "len(df_combined['quality_group'].unique())"
   ]
  },
  {
   "cell_type": "code",
   "execution_count": 73,
   "id": "33164576-e227-4d3b-b179-904df831478a",
   "metadata": {},
   "outputs": [
    {
     "data": {
      "text/plain": [
       "Text(0, 0.5, 'No of Instances')"
      ]
     },
     "execution_count": 73,
     "metadata": {},
     "output_type": "execute_result"
    },
    {
     "data": {
      "image/png": "[encoded data removed]",
      "text/plain": [
       "<Figure size 432x288 with 1 Axes>"
      ]
     },
     "metadata": {
      "needs_background": "light"
     },
     "output_type": "display_data"
    }
   ],
   "source": [
    "df_combined['quality_group'].value_counts().plot(kind=\"bar\")\n",
    "plt.xlabel(\"Quality Group\")\n",
    "plt.ylabel(\"No of Instances\")"
   ]
  },
  {
   "cell_type": "markdown",
   "id": "0a70ade2-f540-48ea-9547-dae35a9084af",
   "metadata": {},
   "source": [
    "Observations :\n",
    "- water_quality has 8 categories while quality_group has 6 categories.\n",
    "\n",
    "Suggestions :\n",
    "- At first glance, might be advisable to use **water_quality** instead of **quality_group** as it is possible for water_quality to be abandoned but functional. (**To be reviewed during modelling stage**)."
   ]
  },
  {
   "cell_type": "markdown",
   "id": "822358ee-b097-4f2b-b920-3aa6a2a2b27f",
   "metadata": {},
   "source": [
    "## 2.14 Quantity/Quantity_Group"
   ]
  },
  {
   "cell_type": "code",
   "execution_count": 74,
   "id": "f3481c23-d0af-4f16-b4db-bd937daec3c7",
   "metadata": {},
   "outputs": [
    {
     "data": {
      "text/plain": [
       "array(['dry', 'enough', 'insufficient', 'seasonal', 'unknown'],\n",
       "      dtype=object)"
      ]
     },
     "execution_count": 74,
     "metadata": {},
     "output_type": "execute_result"
    }
   ],
   "source": [
    "df_combined.sort_values(by='quantity', inplace=True)\n",
    "df_combined['quantity'].unique()"
   ]
  },
  {
   "cell_type": "code",
   "execution_count": 75,
   "id": "2a81c084-dd22-4c4e-944f-82ff80fadfd7",
   "metadata": {},
   "outputs": [
    {
     "data": {
      "text/plain": [
       "enough          33186\n",
       "insufficient    15129\n",
       "dry              6246\n",
       "seasonal         4050\n",
       "unknown           789\n",
       "Name: quantity, dtype: int64"
      ]
     },
     "execution_count": 75,
     "metadata": {},
     "output_type": "execute_result"
    }
   ],
   "source": [
    "df_combined['quantity'].value_counts()"
   ]
  },
  {
   "cell_type": "code",
   "execution_count": 76,
   "id": "241c853e-1488-4471-bab4-a847e670de6e",
   "metadata": {},
   "outputs": [
    {
     "data": {
      "text/plain": [
       "5"
      ]
     },
     "execution_count": 76,
     "metadata": {},
     "output_type": "execute_result"
    }
   ],
   "source": [
    "len(df_combined['quantity'].unique())"
   ]
  },
  {
   "cell_type": "code",
   "execution_count": 77,
   "id": "6c5a0fa2-3ec7-447a-bf0c-0948d87e6bf2",
   "metadata": {},
   "outputs": [
    {
     "data": {
      "text/plain": [
       "Text(0, 0.5, 'No of Instances')"
      ]
     },
     "execution_count": 77,
     "metadata": {},
     "output_type": "execute_result"
    },
    {
     "data": {
      "image/png": "[encoded data removed]",
      "text/plain": [
       "<Figure size 432x288 with 1 Axes>"
      ]
     },
     "metadata": {
      "needs_background": "light"
     },
     "output_type": "display_data"
    }
   ],
   "source": [
    "df_combined['quantity'].value_counts().plot(kind=\"bar\")\n",
    "plt.xlabel(\"quantity\")\n",
    "plt.ylabel(\"No of Instances\")"
   ]
  },
  {
   "cell_type": "code",
   "execution_count": 78,
   "id": "ba789a6e-3fca-4333-b042-57094ea1a961",
   "metadata": {},
   "outputs": [
    {
     "data": {
      "text/plain": [
       "array(['dry', 'enough', 'insufficient', 'seasonal', 'unknown'],\n",
       "      dtype=object)"
      ]
     },
     "execution_count": 78,
     "metadata": {},
     "output_type": "execute_result"
    }
   ],
   "source": [
    "df_combined.sort_values(by='quantity_group', inplace=True)\n",
    "df_combined['quantity_group'].unique()"
   ]
  },
  {
   "cell_type": "code",
   "execution_count": 79,
   "id": "2faa5e0f-e294-4a53-9fc5-048158afdb0a",
   "metadata": {},
   "outputs": [
    {
     "data": {
      "text/plain": [
       "enough          33186\n",
       "insufficient    15129\n",
       "dry              6246\n",
       "seasonal         4050\n",
       "unknown           789\n",
       "Name: quantity_group, dtype: int64"
      ]
     },
     "execution_count": 79,
     "metadata": {},
     "output_type": "execute_result"
    }
   ],
   "source": [
    "df_combined['quantity_group'].value_counts()"
   ]
  },
  {
   "cell_type": "code",
   "execution_count": 80,
   "id": "83e22711-d000-49fb-9a85-024320a2b7db",
   "metadata": {},
   "outputs": [
    {
     "data": {
      "text/plain": [
       "5"
      ]
     },
     "execution_count": 80,
     "metadata": {},
     "output_type": "execute_result"
    }
   ],
   "source": [
    "len(df_combined['quantity_group'].unique())"
   ]
  },
  {
   "cell_type": "code",
   "execution_count": 81,
   "id": "5d624ac6-5bda-4efa-85d6-717bd2b62f54",
   "metadata": {},
   "outputs": [
    {
     "data": {
      "text/plain": [
       "Text(0, 0.5, 'No of Instances')"
      ]
     },
     "execution_count": 81,
     "metadata": {},
     "output_type": "execute_result"
    },
    {
     "data": {
      "image/png": "[encoded data removed]",
      "text/plain": [
       "<Figure size 432x288 with 1 Axes>"
      ]
     },
     "metadata": {
      "needs_background": "light"
     },
     "output_type": "display_data"
    }
   ],
   "source": [
    "df_combined['quantity_group'].value_counts().plot(kind=\"bar\")\n",
    "plt.xlabel(\"Quantity Group\")\n",
    "plt.ylabel(\"No of Instances\")"
   ]
  },
  {
   "cell_type": "markdown",
   "id": "cb2f36d4-7b25-47f2-aa7b-4d9b9970ebfa",
   "metadata": {},
   "source": [
    "Observations :\n",
    "- Both **quantity** and **quantity_group** columns represent the same values.\n",
    "- Both columns have the same number of classess at **5**.\n",
    "\n",
    "Suggestions :\n",
    "- Select either one and drop the other. (if applicable)"
   ]
  },
  {
   "cell_type": "markdown",
   "id": "e347210d-a806-496f-8ccb-2dc08d9ef3ac",
   "metadata": {},
   "source": [
    "## 2.15 Source / Source_Type / Source_Class"
   ]
  },
  {
   "cell_type": "code",
   "execution_count": 82,
   "id": "87d07564-56e5-449d-b26c-85bb31494f3b",
   "metadata": {},
   "outputs": [
    {
     "data": {
      "text/plain": [
       "array(['dam', 'hand dtw', 'lake', 'machine dbh', 'other',\n",
       "       'rainwater harvesting', 'river', 'shallow well', 'spring',\n",
       "       'unknown'], dtype=object)"
      ]
     },
     "execution_count": 82,
     "metadata": {},
     "output_type": "execute_result"
    }
   ],
   "source": [
    "df_combined.sort_values(by='source', inplace=True)\n",
    "df_combined['source'].unique()"
   ]
  },
  {
   "cell_type": "code",
   "execution_count": 83,
   "id": "04046ddc-070a-4176-a670-931247d780c7",
   "metadata": {},
   "outputs": [
    {
     "data": {
      "text/plain": [
       "spring                  17021\n",
       "shallow well            16824\n",
       "machine dbh             11075\n",
       "river                    9612\n",
       "rainwater harvesting     2295\n",
       "hand dtw                  874\n",
       "lake                      765\n",
       "dam                       656\n",
       "other                     212\n",
       "unknown                    66\n",
       "Name: source, dtype: int64"
      ]
     },
     "execution_count": 83,
     "metadata": {},
     "output_type": "execute_result"
    }
   ],
   "source": [
    "df_combined['source'].value_counts()"
   ]
  },
  {
   "cell_type": "code",
   "execution_count": 84,
   "id": "94bb1878-71e2-4109-b619-cbe8021ac37b",
   "metadata": {},
   "outputs": [
    {
     "data": {
      "text/plain": [
       "10"
      ]
     },
     "execution_count": 84,
     "metadata": {},
     "output_type": "execute_result"
    }
   ],
   "source": [
    "len(df_combined['source'].unique())"
   ]
  },
  {
   "cell_type": "code",
   "execution_count": 85,
   "id": "976b7143-b37d-4865-a678-29ba27872fa6",
   "metadata": {},
   "outputs": [
    {
     "data": {
      "text/plain": [
       "Text(0, 0.5, 'No of Instances')"
      ]
     },
     "execution_count": 85,
     "metadata": {},
     "output_type": "execute_result"
    },
    {
     "data": {
      "image/png": "[encoded data removed]",
      "text/plain": [
       "<Figure size 432x288 with 1 Axes>"
      ]
     },
     "metadata": {
      "needs_background": "light"
     },
     "output_type": "display_data"
    }
   ],
   "source": [
    "df_combined['source'].value_counts().plot(kind=\"bar\")\n",
    "plt.xlabel(\"Source\")\n",
    "plt.ylabel(\"No of Instances\")"
   ]
  },
  {
   "cell_type": "code",
   "execution_count": 86,
   "id": "df64068e-4160-4c57-9828-7af5ba7411f7",
   "metadata": {},
   "outputs": [
    {
     "data": {
      "text/plain": [
       "array(['borehole', 'dam', 'other', 'rainwater harvesting', 'river/lake',\n",
       "       'shallow well', 'spring'], dtype=object)"
      ]
     },
     "execution_count": 86,
     "metadata": {},
     "output_type": "execute_result"
    }
   ],
   "source": [
    "df_combined.sort_values(by='source_type', inplace=True)\n",
    "df_combined['source_type'].unique()"
   ]
  },
  {
   "cell_type": "code",
   "execution_count": 87,
   "id": "ef9a6735-5080-466e-8100-eacca398d5dc",
   "metadata": {},
   "outputs": [
    {
     "data": {
      "text/plain": [
       "spring                  17021\n",
       "shallow well            16824\n",
       "borehole                11949\n",
       "river/lake              10377\n",
       "rainwater harvesting     2295\n",
       "dam                       656\n",
       "other                     278\n",
       "Name: source_type, dtype: int64"
      ]
     },
     "execution_count": 87,
     "metadata": {},
     "output_type": "execute_result"
    }
   ],
   "source": [
    "df_combined['source_type'].value_counts()"
   ]
  },
  {
   "cell_type": "code",
   "execution_count": 88,
   "id": "45630f6b-c284-4dd8-b476-5e16f0868ffa",
   "metadata": {},
   "outputs": [
    {
     "data": {
      "text/plain": [
       "7"
      ]
     },
     "execution_count": 88,
     "metadata": {},
     "output_type": "execute_result"
    }
   ],
   "source": [
    "len(df_combined['source_type'].unique())"
   ]
  },
  {
   "cell_type": "code",
   "execution_count": 89,
   "id": "e46c46c6-7467-4954-bf2f-dfbd8253dc1d",
   "metadata": {},
   "outputs": [
    {
     "data": {
      "text/plain": [
       "Text(0, 0.5, 'No of Instances')"
      ]
     },
     "execution_count": 89,
     "metadata": {},
     "output_type": "execute_result"
    },
    {
     "data": {
      "image/png": "[encoded data removed]",
      "text/plain": [
       "<Figure size 432x288 with 1 Axes>"
      ]
     },
     "metadata": {
      "needs_background": "light"
     },
     "output_type": "display_data"
    }
   ],
   "source": [
    "df_combined['source_type'].value_counts().plot(kind=\"bar\")\n",
    "plt.xlabel(\"Source Type\")\n",
    "plt.ylabel(\"No of Instances\")"
   ]
  },
  {
   "cell_type": "code",
   "execution_count": 90,
   "id": "4cb170ee-0313-4920-85df-f2ee7ac2b1a1",
   "metadata": {},
   "outputs": [
    {
     "data": {
      "text/plain": [
       "array(['groundwater', 'surface', 'unknown'], dtype=object)"
      ]
     },
     "execution_count": 90,
     "metadata": {},
     "output_type": "execute_result"
    }
   ],
   "source": [
    "df_combined.sort_values(by='source_class', inplace=True)\n",
    "df_combined['source_class'].unique()"
   ]
  },
  {
   "cell_type": "code",
   "execution_count": 91,
   "id": "cec9ec03-3296-470a-912c-96dfec0e10eb",
   "metadata": {},
   "outputs": [
    {
     "data": {
      "text/plain": [
       "groundwater    45794\n",
       "surface        13328\n",
       "unknown          278\n",
       "Name: source_class, dtype: int64"
      ]
     },
     "execution_count": 91,
     "metadata": {},
     "output_type": "execute_result"
    }
   ],
   "source": [
    "df_combined['source_class'].value_counts()"
   ]
  },
  {
   "cell_type": "code",
   "execution_count": 92,
   "id": "8b96bf29-6b94-42a7-a95b-a29fd9507fa8",
   "metadata": {},
   "outputs": [
    {
     "data": {
      "text/plain": [
       "3"
      ]
     },
     "execution_count": 92,
     "metadata": {},
     "output_type": "execute_result"
    }
   ],
   "source": [
    "len(df_combined['source_class'].unique())"
   ]
  },
  {
   "cell_type": "code",
   "execution_count": 93,
   "id": "1ba6c017-8960-4143-b6d7-148e733923a2",
   "metadata": {},
   "outputs": [
    {
     "data": {
      "text/plain": [
       "Text(0, 0.5, 'No of Instances')"
      ]
     },
     "execution_count": 93,
     "metadata": {},
     "output_type": "execute_result"
    },
    {
     "data": {
      "image/png": "[encoded data removed]",
      "text/plain": [
       "<Figure size 432x288 with 1 Axes>"
      ]
     },
     "metadata": {
      "needs_background": "light"
     },
     "output_type": "display_data"
    }
   ],
   "source": [
    "df_combined['source_class'].value_counts().plot(kind=\"bar\")\n",
    "plt.xlabel(\"Source Class\")\n",
    "plt.ylabel(\"No of Instances\")"
   ]
  },
  {
   "cell_type": "markdown",
   "id": "d5ef8fd1-d90b-4e40-9fbd-7039478f0df3",
   "metadata": {},
   "source": [
    "Observations :\n",
    "- Certain values in **source_type** can represent values in **source** column without the need of new categories.\n",
    "- source_class column's data that is too abstract.\n",
    "\n",
    "Suggestions :\n",
    "- Use source_type instead of the other 2 columns."
   ]
  },
  {
   "cell_type": "markdown",
   "id": "be582307-d854-4d01-8ee4-561b45735e5d",
   "metadata": {},
   "source": [
    "## 2.16 Waterpoint_type / Waterpoint_type_group"
   ]
  },
  {
   "cell_type": "code",
   "execution_count": 94,
   "id": "6a57aaeb-9dbc-4359-9e88-7dec587fff9a",
   "metadata": {},
   "outputs": [
    {
     "data": {
      "text/plain": [
       "array(['cattle trough', 'communal standpipe',\n",
       "       'communal standpipe multiple', 'dam', 'hand pump',\n",
       "       'improved spring', 'other'], dtype=object)"
      ]
     },
     "execution_count": 94,
     "metadata": {},
     "output_type": "execute_result"
    }
   ],
   "source": [
    "df_combined.sort_values(by='waterpoint_type', inplace=True)\n",
    "df_combined['waterpoint_type'].unique()"
   ]
  },
  {
   "cell_type": "code",
   "execution_count": 95,
   "id": "c7c316b6-2bc0-4535-b759-37c545103c7c",
   "metadata": {},
   "outputs": [
    {
     "data": {
      "text/plain": [
       "communal standpipe             28522\n",
       "hand pump                      17488\n",
       "other                           6380\n",
       "communal standpipe multiple     6103\n",
       "improved spring                  784\n",
       "cattle trough                    116\n",
       "dam                                7\n",
       "Name: waterpoint_type, dtype: int64"
      ]
     },
     "execution_count": 95,
     "metadata": {},
     "output_type": "execute_result"
    }
   ],
   "source": [
    "df_combined['waterpoint_type'].value_counts()"
   ]
  },
  {
   "cell_type": "code",
   "execution_count": 96,
   "id": "327a2cfe-19cf-4be9-ad27-89e4d61b0faf",
   "metadata": {},
   "outputs": [
    {
     "data": {
      "text/plain": [
       "7"
      ]
     },
     "execution_count": 96,
     "metadata": {},
     "output_type": "execute_result"
    }
   ],
   "source": [
    "len(df_combined['waterpoint_type'].unique())"
   ]
  },
  {
   "cell_type": "code",
   "execution_count": 97,
   "id": "f83a584d-cea7-473b-a6bf-4ea4624e22c4",
   "metadata": {},
   "outputs": [
    {
     "data": {
      "text/plain": [
       "Text(0, 0.5, 'No of Instances')"
      ]
     },
     "execution_count": 97,
     "metadata": {},
     "output_type": "execute_result"
    },
    {
     "data": {
      "image/png": "[encoded data removed]",
      "text/plain": [
       "<Figure size 432x288 with 1 Axes>"
      ]
     },
     "metadata": {
      "needs_background": "light"
     },
     "output_type": "display_data"
    }
   ],
   "source": [
    "df_combined['waterpoint_type'].value_counts().plot(kind=\"bar\")\n",
    "plt.xlabel(\"Waterpoint Type\")\n",
    "plt.ylabel(\"No of Instances\")"
   ]
  },
  {
   "cell_type": "code",
   "execution_count": 98,
   "id": "911f1f24-fa82-46e8-9943-953532bd5d19",
   "metadata": {},
   "outputs": [
    {
     "data": {
      "text/plain": [
       "array(['cattle trough', 'communal standpipe', 'dam', 'hand pump',\n",
       "       'improved spring', 'other'], dtype=object)"
      ]
     },
     "execution_count": 98,
     "metadata": {},
     "output_type": "execute_result"
    }
   ],
   "source": [
    "df_combined.sort_values(by='waterpoint_type_group', inplace=True)\n",
    "df_combined['waterpoint_type_group'].unique()"
   ]
  },
  {
   "cell_type": "code",
   "execution_count": 99,
   "id": "9ffcf736-7420-4b33-bd35-bc816094b0b0",
   "metadata": {},
   "outputs": [
    {
     "data": {
      "text/plain": [
       "communal standpipe    34625\n",
       "hand pump             17488\n",
       "other                  6380\n",
       "improved spring         784\n",
       "cattle trough           116\n",
       "dam                       7\n",
       "Name: waterpoint_type_group, dtype: int64"
      ]
     },
     "execution_count": 99,
     "metadata": {},
     "output_type": "execute_result"
    }
   ],
   "source": [
    "df_combined['waterpoint_type_group'].value_counts()"
   ]
  },
  {
   "cell_type": "code",
   "execution_count": 100,
   "id": "9299cf37-c551-4598-bc7a-7f4f0f9c69c5",
   "metadata": {},
   "outputs": [
    {
     "data": {
      "text/plain": [
       "6"
      ]
     },
     "execution_count": 100,
     "metadata": {},
     "output_type": "execute_result"
    }
   ],
   "source": [
    "len(df_combined['waterpoint_type_group'].unique())"
   ]
  },
  {
   "cell_type": "code",
   "execution_count": 101,
   "id": "d22f2658-e509-4fe3-baaa-26a0f16ab85b",
   "metadata": {},
   "outputs": [
    {
     "data": {
      "text/plain": [
       "Text(0, 0.5, 'No of Instances')"
      ]
     },
     "execution_count": 101,
     "metadata": {},
     "output_type": "execute_result"
    },
    {
     "data": {
      "image/png": "[encoded data removed]",
      "text/plain": [
       "<Figure size 432x288 with 1 Axes>"
      ]
     },
     "metadata": {
      "needs_background": "light"
     },
     "output_type": "display_data"
    }
   ],
   "source": [
    "df_combined['waterpoint_type_group'].value_counts().plot(kind=\"bar\")\n",
    "plt.xlabel(\"Waterpoint Type Group\")\n",
    "plt.ylabel(\"No of Instances\")"
   ]
  },
  {
   "cell_type": "markdown",
   "id": "5b4dc044-5d45-4dd4-99c2-8c9e83b2c794",
   "metadata": {},
   "source": [
    "Observations :\n",
    "- Communal Standpipe in waterpoint_type_group can represent communal standpipe multiple in **waterpoint_type** column.\n",
    "\n",
    "Suggestions :\n",
    "- Use waterpoint_type_group and drop the other . (If applicable)"
   ]
  },
  {
   "cell_type": "code",
   "execution_count": null,
   "id": "2e025830",
   "metadata": {},
   "outputs": [],
   "source": []
  }
 ],
 "metadata": {
  "kernelspec": {
   "display_name": "Python 3 (ipykernel)",
   "language": "python",
   "name": "python3"
  },
  "language_info": {
   "codemirror_mode": {
    "name": "ipython",
    "version": 3
   },
   "file_extension": ".py",
   "mimetype": "text/x-python",
   "name": "python",
   "nbconvert_exporter": "python",
   "pygments_lexer": "ipython3",
   "version": "3.8.10"
  }
 },
 "nbformat": 4,
 "nbformat_minor": 5
}
