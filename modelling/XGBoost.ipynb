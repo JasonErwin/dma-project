{
 "cells": [
  {
   "cell_type": "code",
   "execution_count": 1,
   "id": "79bb9830-233b-4625-8b6c-6bed9fdc562f",
   "metadata": {},
   "outputs": [],
   "source": [
    "import pandas as pd\n",
    "import numpy as np\n",
    "import matplotlib.pyplot as plt\n",
    "\n",
    "# Train test split\n",
    "from sklearn.model_selection import train_test_split\n",
    "\n",
    "# Feature normalisation\n",
    "from sklearn.preprocessing import StandardScaler\n",
    "\n",
    "# Model hyperparameter tuning\n",
    "from sklearn.model_selection import GridSearchCV \n",
    "from sklearn.utils.class_weight import compute_sample_weight\n",
    "\n",
    "# Models\n",
    "import xgboost as xgb\n",
    "\n",
    "# Model Evaluation Section -----\n",
    "from sklearn.metrics import confusion_matrix, classification_report\n",
    "from sklearn.metrics import accuracy_score\n",
    "\n",
    "# Cross Validation\n",
    "from sklearn.model_selection import cross_val_score\n",
    "from sklearn.model_selection import KFold, StratifiedKFold"
   ]
  },
  {
   "cell_type": "code",
   "execution_count": 2,
   "id": "cf0c684f-f6e4-4076-bf96-18fd2555594a",
   "metadata": {},
   "outputs": [],
   "source": [
    "df = pd.read_csv(\"../datasets/water_fe.csv\")\n",
    "df.drop(\"Unnamed: 0\", axis=1, inplace=True)"
   ]
  },
  {
   "cell_type": "code",
   "execution_count": 3,
   "id": "35dc880d-4110-4e4e-b4d8-9d4c49ad29b6",
   "metadata": {},
   "outputs": [],
   "source": [
    "# drivers = df[['quantity','longitude_imputation','latitude_imputation','gps_height','waterpoint_type_group',\n",
    "#              'extraction_type_class','construction_decade','amount_tsh','payment_type']]\n",
    "\n",
    "# drivers = df[['longitude_imputation','latitude_imputation','quantity','gps_height','extraction_type_class',\n",
    "#              'waterpoint_type_group','payment_type','funder_grouped','amount_tsh','source_type','population_original','age']]\n",
    "\n",
    "# drivers = df[['longitude_imputation','latitude_imputation','quantity','extraction_type_class','gps_height','age','waterpoint_type_group',\n",
    "#              'population_original','payment_type','source_type','amount_tsh','funder_grouped','installer_grouped']]\n",
    "\n",
    "drivers = df[['longitude_imputation','latitude_imputation','quantity','extraction_type_class','gps_height','age',\n",
    "              'waterpoint_type_group','population_original','payment_type','source_type','funder_grouped',\n",
    "              'basin','installer_grouped','management','water_quality','public_meeting']]\n",
    "target = df['outcome']"
   ]
  },
  {
   "cell_type": "code",
   "execution_count": 4,
   "id": "877a8864-d702-410b-9a05-1dfb89993021",
   "metadata": {},
   "outputs": [],
   "source": [
    "X_train, X_test, y_train, y_test = train_test_split(drivers, \n",
    "                                                    target,\n",
    "                                                    test_size=0.2,\n",
    "                                                    stratify=target,\n",
    "                                                    random_state=42)"
   ]
  },
  {
   "cell_type": "code",
   "execution_count": 5,
   "id": "7e54becd-3231-4f76-a1e5-1d2704f3c43c",
   "metadata": {},
   "outputs": [],
   "source": [
    "scaler = StandardScaler()\n",
    "Xs_train = scaler.fit_transform(X_train)\n",
    "Xs_test = scaler.fit_transform(X_test)"
   ]
  },
  {
   "cell_type": "markdown",
   "id": "03576ef7-9f6d-473e-975d-910d370ce488",
   "metadata": {},
   "source": [
    "___\n",
    "# <ins>Model Building<ins>"
   ]
  },
  {
   "cell_type": "code",
   "execution_count": 6,
   "id": "9766312c-9b42-4931-8905-42f2a6a70c85",
   "metadata": {},
   "outputs": [],
   "source": [
    "dtrain = xgb.DMatrix(X_train, label=y_train)"
   ]
  },
  {
   "cell_type": "code",
   "execution_count": 7,
   "id": "b2a3b900-7fb6-4e3d-b990-7375985cf6e6",
   "metadata": {},
   "outputs": [],
   "source": [
    "class_weights = compute_sample_weight('balanced', y_train)"
   ]
  },
  {
   "cell_type": "code",
   "execution_count": 8,
   "id": "e8c84938-ae13-4000-a2c1-0682a50e3fb2",
   "metadata": {
    "scrolled": true,
    "tags": []
   },
   "outputs": [
    {
     "name": "stdout",
     "output_type": "stream",
     "text": [
      "Fitting 5 folds for each of 16 candidates, totalling 80 fits\n",
      "[CV 1/5] END colsample_bytree=0.75, gamma=0, learning_rate=0.01, max_depth=10, objective=multi:softmax, seed=42, subsample=0.5;, score=0.724 total time=   5.8s\n",
      "[CV 2/5] END colsample_bytree=0.75, gamma=0, learning_rate=0.01, max_depth=10, objective=multi:softmax, seed=42, subsample=0.5;, score=0.717 total time=   5.4s\n",
      "[CV 3/5] END colsample_bytree=0.75, gamma=0, learning_rate=0.01, max_depth=10, objective=multi:softmax, seed=42, subsample=0.5;, score=0.730 total time=   5.9s\n",
      "[CV 4/5] END colsample_bytree=0.75, gamma=0, learning_rate=0.01, max_depth=10, objective=multi:softmax, seed=42, subsample=0.5;, score=0.720 total time=   5.5s\n",
      "[CV 5/5] END colsample_bytree=0.75, gamma=0, learning_rate=0.01, max_depth=10, objective=multi:softmax, seed=42, subsample=0.5;, score=0.721 total time=   5.9s\n",
      "[CV 1/5] END colsample_bytree=0.75, gamma=0, learning_rate=0.01, max_depth=15, objective=multi:softmax, seed=42, subsample=0.5;, score=0.767 total time=  13.1s\n",
      "[CV 2/5] END colsample_bytree=0.75, gamma=0, learning_rate=0.01, max_depth=15, objective=multi:softmax, seed=42, subsample=0.5;, score=0.768 total time=  12.8s\n",
      "[CV 3/5] END colsample_bytree=0.75, gamma=0, learning_rate=0.01, max_depth=15, objective=multi:softmax, seed=42, subsample=0.5;, score=0.777 total time=  12.4s\n",
      "[CV 4/5] END colsample_bytree=0.75, gamma=0, learning_rate=0.01, max_depth=15, objective=multi:softmax, seed=42, subsample=0.5;, score=0.771 total time=  13.0s\n",
      "[CV 5/5] END colsample_bytree=0.75, gamma=0, learning_rate=0.01, max_depth=15, objective=multi:softmax, seed=42, subsample=0.5;, score=0.774 total time=  13.1s\n",
      "[CV 1/5] END colsample_bytree=0.75, gamma=0, learning_rate=0.01, max_depth=20, objective=multi:softmax, seed=42, subsample=0.5;, score=0.780 total time=  15.3s\n",
      "[CV 2/5] END colsample_bytree=0.75, gamma=0, learning_rate=0.01, max_depth=20, objective=multi:softmax, seed=42, subsample=0.5;, score=0.781 total time=  15.0s\n",
      "[CV 3/5] END colsample_bytree=0.75, gamma=0, learning_rate=0.01, max_depth=20, objective=multi:softmax, seed=42, subsample=0.5;, score=0.793 total time=  15.1s\n",
      "[CV 4/5] END colsample_bytree=0.75, gamma=0, learning_rate=0.01, max_depth=20, objective=multi:softmax, seed=42, subsample=0.5;, score=0.784 total time=  15.4s\n",
      "[CV 5/5] END colsample_bytree=0.75, gamma=0, learning_rate=0.01, max_depth=20, objective=multi:softmax, seed=42, subsample=0.5;, score=0.785 total time=  14.9s\n",
      "[CV 1/5] END colsample_bytree=0.75, gamma=0, learning_rate=0.01, max_depth=25, objective=multi:softmax, seed=42, subsample=0.5;, score=0.783 total time=  16.7s\n",
      "[CV 2/5] END colsample_bytree=0.75, gamma=0, learning_rate=0.01, max_depth=25, objective=multi:softmax, seed=42, subsample=0.5;, score=0.783 total time=  17.1s\n",
      "[CV 3/5] END colsample_bytree=0.75, gamma=0, learning_rate=0.01, max_depth=25, objective=multi:softmax, seed=42, subsample=0.5;, score=0.795 total time=  17.2s\n",
      "[CV 4/5] END colsample_bytree=0.75, gamma=0, learning_rate=0.01, max_depth=25, objective=multi:softmax, seed=42, subsample=0.5;, score=0.790 total time=  16.2s\n",
      "[CV 5/5] END colsample_bytree=0.75, gamma=0, learning_rate=0.01, max_depth=25, objective=multi:softmax, seed=42, subsample=0.5;, score=0.788 total time=  16.4s\n",
      "[CV 1/5] END colsample_bytree=0.75, gamma=0, learning_rate=0.1, max_depth=10, objective=multi:softmax, seed=42, subsample=0.5;, score=0.753 total time=   7.4s\n",
      "[CV 2/5] END colsample_bytree=0.75, gamma=0, learning_rate=0.1, max_depth=10, objective=multi:softmax, seed=42, subsample=0.5;, score=0.753 total time=   7.5s\n",
      "[CV 3/5] END colsample_bytree=0.75, gamma=0, learning_rate=0.1, max_depth=10, objective=multi:softmax, seed=42, subsample=0.5;, score=0.758 total time=   7.5s\n",
      "[CV 4/5] END colsample_bytree=0.75, gamma=0, learning_rate=0.1, max_depth=10, objective=multi:softmax, seed=42, subsample=0.5;, score=0.755 total time=   7.7s\n",
      "[CV 5/5] END colsample_bytree=0.75, gamma=0, learning_rate=0.1, max_depth=10, objective=multi:softmax, seed=42, subsample=0.5;, score=0.759 total time=   7.9s\n",
      "[CV 1/5] END colsample_bytree=0.75, gamma=0, learning_rate=0.1, max_depth=15, objective=multi:softmax, seed=42, subsample=0.5;, score=0.777 total time=  11.9s\n",
      "[CV 2/5] END colsample_bytree=0.75, gamma=0, learning_rate=0.1, max_depth=15, objective=multi:softmax, seed=42, subsample=0.5;, score=0.781 total time=  11.8s\n",
      "[CV 3/5] END colsample_bytree=0.75, gamma=0, learning_rate=0.1, max_depth=15, objective=multi:softmax, seed=42, subsample=0.5;, score=0.791 total time=  12.0s\n",
      "[CV 4/5] END colsample_bytree=0.75, gamma=0, learning_rate=0.1, max_depth=15, objective=multi:softmax, seed=42, subsample=0.5;, score=0.783 total time=  12.1s\n",
      "[CV 5/5] END colsample_bytree=0.75, gamma=0, learning_rate=0.1, max_depth=15, objective=multi:softmax, seed=42, subsample=0.5;, score=0.784 total time=  11.9s\n",
      "[CV 1/5] END colsample_bytree=0.75, gamma=0, learning_rate=0.1, max_depth=20, objective=multi:softmax, seed=42, subsample=0.5;, score=0.782 total time=  15.2s\n",
      "[CV 2/5] END colsample_bytree=0.75, gamma=0, learning_rate=0.1, max_depth=20, objective=multi:softmax, seed=42, subsample=0.5;, score=0.789 total time=  15.2s\n",
      "[CV 3/5] END colsample_bytree=0.75, gamma=0, learning_rate=0.1, max_depth=20, objective=multi:softmax, seed=42, subsample=0.5;, score=0.795 total time=  15.3s\n",
      "[CV 4/5] END colsample_bytree=0.75, gamma=0, learning_rate=0.1, max_depth=20, objective=multi:softmax, seed=42, subsample=0.5;, score=0.789 total time=  14.7s\n",
      "[CV 5/5] END colsample_bytree=0.75, gamma=0, learning_rate=0.1, max_depth=20, objective=multi:softmax, seed=42, subsample=0.5;, score=0.789 total time=  15.3s\n",
      "[CV 1/5] END colsample_bytree=0.75, gamma=0, learning_rate=0.1, max_depth=25, objective=multi:softmax, seed=42, subsample=0.5;, score=0.785 total time=  16.1s\n",
      "[CV 2/5] END colsample_bytree=0.75, gamma=0, learning_rate=0.1, max_depth=25, objective=multi:softmax, seed=42, subsample=0.5;, score=0.788 total time=  15.7s\n",
      "[CV 3/5] END colsample_bytree=0.75, gamma=0, learning_rate=0.1, max_depth=25, objective=multi:softmax, seed=42, subsample=0.5;, score=0.797 total time=  16.3s\n",
      "[CV 4/5] END colsample_bytree=0.75, gamma=0, learning_rate=0.1, max_depth=25, objective=multi:softmax, seed=42, subsample=0.5;, score=0.791 total time=  18.2s\n",
      "[CV 5/5] END colsample_bytree=0.75, gamma=0, learning_rate=0.1, max_depth=25, objective=multi:softmax, seed=42, subsample=0.5;, score=0.791 total time=  18.7s\n",
      "[CV 1/5] END colsample_bytree=0.75, gamma=1, learning_rate=0.01, max_depth=10, objective=multi:softmax, seed=42, subsample=0.5;, score=0.723 total time=   8.0s\n",
      "[CV 2/5] END colsample_bytree=0.75, gamma=1, learning_rate=0.01, max_depth=10, objective=multi:softmax, seed=42, subsample=0.5;, score=0.718 total time=   8.2s\n",
      "[CV 3/5] END colsample_bytree=0.75, gamma=1, learning_rate=0.01, max_depth=10, objective=multi:softmax, seed=42, subsample=0.5;, score=0.729 total time=   7.7s\n",
      "[CV 4/5] END colsample_bytree=0.75, gamma=1, learning_rate=0.01, max_depth=10, objective=multi:softmax, seed=42, subsample=0.5;, score=0.717 total time=   8.3s\n",
      "[CV 5/5] END colsample_bytree=0.75, gamma=1, learning_rate=0.01, max_depth=10, objective=multi:softmax, seed=42, subsample=0.5;, score=0.719 total time=   7.8s\n",
      "[CV 1/5] END colsample_bytree=0.75, gamma=1, learning_rate=0.01, max_depth=15, objective=multi:softmax, seed=42, subsample=0.5;, score=0.763 total time=  12.3s\n",
      "[CV 2/5] END colsample_bytree=0.75, gamma=1, learning_rate=0.01, max_depth=15, objective=multi:softmax, seed=42, subsample=0.5;, score=0.764 total time=  12.5s\n",
      "[CV 3/5] END colsample_bytree=0.75, gamma=1, learning_rate=0.01, max_depth=15, objective=multi:softmax, seed=42, subsample=0.5;, score=0.775 total time=  12.8s\n",
      "[CV 4/5] END colsample_bytree=0.75, gamma=1, learning_rate=0.01, max_depth=15, objective=multi:softmax, seed=42, subsample=0.5;, score=0.767 total time=  12.7s\n",
      "[CV 5/5] END colsample_bytree=0.75, gamma=1, learning_rate=0.01, max_depth=15, objective=multi:softmax, seed=42, subsample=0.5;, score=0.770 total time=  12.1s\n",
      "[CV 1/5] END colsample_bytree=0.75, gamma=1, learning_rate=0.01, max_depth=20, objective=multi:softmax, seed=42, subsample=0.5;, score=0.775 total time=  15.5s\n",
      "[CV 2/5] END colsample_bytree=0.75, gamma=1, learning_rate=0.01, max_depth=20, objective=multi:softmax, seed=42, subsample=0.5;, score=0.775 total time=  15.4s\n",
      "[CV 3/5] END colsample_bytree=0.75, gamma=1, learning_rate=0.01, max_depth=20, objective=multi:softmax, seed=42, subsample=0.5;, score=0.789 total time=  15.4s\n",
      "[CV 4/5] END colsample_bytree=0.75, gamma=1, learning_rate=0.01, max_depth=20, objective=multi:softmax, seed=42, subsample=0.5;, score=0.784 total time=  15.9s\n",
      "[CV 5/5] END colsample_bytree=0.75, gamma=1, learning_rate=0.01, max_depth=20, objective=multi:softmax, seed=42, subsample=0.5;, score=0.781 total time=  15.0s\n",
      "[CV 1/5] END colsample_bytree=0.75, gamma=1, learning_rate=0.01, max_depth=25, objective=multi:softmax, seed=42, subsample=0.5;, score=0.779 total time=  16.3s\n",
      "[CV 2/5] END colsample_bytree=0.75, gamma=1, learning_rate=0.01, max_depth=25, objective=multi:softmax, seed=42, subsample=0.5;, score=0.779 total time=  16.9s\n",
      "[CV 3/5] END colsample_bytree=0.75, gamma=1, learning_rate=0.01, max_depth=25, objective=multi:softmax, seed=42, subsample=0.5;, score=0.792 total time=  16.6s\n",
      "[CV 4/5] END colsample_bytree=0.75, gamma=1, learning_rate=0.01, max_depth=25, objective=multi:softmax, seed=42, subsample=0.5;, score=0.786 total time=  16.6s\n",
      "[CV 5/5] END colsample_bytree=0.75, gamma=1, learning_rate=0.01, max_depth=25, objective=multi:softmax, seed=42, subsample=0.5;, score=0.784 total time=  16.6s\n",
      "[CV 1/5] END colsample_bytree=0.75, gamma=1, learning_rate=0.1, max_depth=10, objective=multi:softmax, seed=42, subsample=0.5;, score=0.750 total time=   7.8s\n",
      "[CV 2/5] END colsample_bytree=0.75, gamma=1, learning_rate=0.1, max_depth=10, objective=multi:softmax, seed=42, subsample=0.5;, score=0.749 total time=   7.5s\n",
      "[CV 3/5] END colsample_bytree=0.75, gamma=1, learning_rate=0.1, max_depth=10, objective=multi:softmax, seed=42, subsample=0.5;, score=0.756 total time=   7.7s\n",
      "[CV 4/5] END colsample_bytree=0.75, gamma=1, learning_rate=0.1, max_depth=10, objective=multi:softmax, seed=42, subsample=0.5;, score=0.753 total time=   7.4s\n",
      "[CV 5/5] END colsample_bytree=0.75, gamma=1, learning_rate=0.1, max_depth=10, objective=multi:softmax, seed=42, subsample=0.5;, score=0.757 total time=   7.7s\n",
      "[CV 1/5] END colsample_bytree=0.75, gamma=1, learning_rate=0.1, max_depth=15, objective=multi:softmax, seed=42, subsample=0.5;, score=0.774 total time=  11.5s\n",
      "[CV 2/5] END colsample_bytree=0.75, gamma=1, learning_rate=0.1, max_depth=15, objective=multi:softmax, seed=42, subsample=0.5;, score=0.771 total time=  11.5s\n",
      "[CV 3/5] END colsample_bytree=0.75, gamma=1, learning_rate=0.1, max_depth=15, objective=multi:softmax, seed=42, subsample=0.5;, score=0.789 total time=  11.4s\n",
      "[CV 4/5] END colsample_bytree=0.75, gamma=1, learning_rate=0.1, max_depth=15, objective=multi:softmax, seed=42, subsample=0.5;, score=0.775 total time=  11.8s\n",
      "[CV 5/5] END colsample_bytree=0.75, gamma=1, learning_rate=0.1, max_depth=15, objective=multi:softmax, seed=42, subsample=0.5;, score=0.778 total time=  11.2s\n",
      "[CV 1/5] END colsample_bytree=0.75, gamma=1, learning_rate=0.1, max_depth=20, objective=multi:softmax, seed=42, subsample=0.5;, score=0.775 total time=  14.7s\n",
      "[CV 2/5] END colsample_bytree=0.75, gamma=1, learning_rate=0.1, max_depth=20, objective=multi:softmax, seed=42, subsample=0.5;, score=0.778 total time=  14.7s\n",
      "[CV 3/5] END colsample_bytree=0.75, gamma=1, learning_rate=0.1, max_depth=20, objective=multi:softmax, seed=42, subsample=0.5;, score=0.787 total time=  14.9s\n",
      "[CV 4/5] END colsample_bytree=0.75, gamma=1, learning_rate=0.1, max_depth=20, objective=multi:softmax, seed=42, subsample=0.5;, score=0.784 total time=  14.7s\n",
      "[CV 5/5] END colsample_bytree=0.75, gamma=1, learning_rate=0.1, max_depth=20, objective=multi:softmax, seed=42, subsample=0.5;, score=0.785 total time=  15.1s\n",
      "[CV 1/5] END colsample_bytree=0.75, gamma=1, learning_rate=0.1, max_depth=25, objective=multi:softmax, seed=42, subsample=0.5;, score=0.777 total time=  17.4s\n",
      "[CV 2/5] END colsample_bytree=0.75, gamma=1, learning_rate=0.1, max_depth=25, objective=multi:softmax, seed=42, subsample=0.5;, score=0.781 total time=  17.6s\n",
      "[CV 3/5] END colsample_bytree=0.75, gamma=1, learning_rate=0.1, max_depth=25, objective=multi:softmax, seed=42, subsample=0.5;, score=0.791 total time=  16.9s\n",
      "[CV 4/5] END colsample_bytree=0.75, gamma=1, learning_rate=0.1, max_depth=25, objective=multi:softmax, seed=42, subsample=0.5;, score=0.786 total time=  17.8s\n",
      "[CV 5/5] END colsample_bytree=0.75, gamma=1, learning_rate=0.1, max_depth=25, objective=multi:softmax, seed=42, subsample=0.5;, score=0.787 total time=  18.3s\n"
     ]
    },
    {
     "data": {
      "text/plain": [
       "GridSearchCV(estimator=XGBClassifier(base_score=None, booster=None,\n",
       "                                     callbacks=None, colsample_bylevel=None,\n",
       "                                     colsample_bynode=None,\n",
       "                                     colsample_bytree=None,\n",
       "                                     early_stopping_rounds=None,\n",
       "                                     enable_categorical=False, eval_metric=None,\n",
       "                                     gamma=None, gpu_id=None, grow_policy=None,\n",
       "                                     importance_type=None,\n",
       "                                     interaction_constraints=None,\n",
       "                                     learning_rate=None, max_bin=None,\n",
       "                                     max_cat_to_...\n",
       "                                     missing=nan, monotone_constraints=None,\n",
       "                                     n_estimators=100, n_jobs=None,\n",
       "                                     num_parallel_tree=None, predictor=None,\n",
       "                                     random_state=None, reg_alpha=None,\n",
       "                                     reg_lambda=None, ...),\n",
       "             param_grid={'colsample_bytree': [0.75], 'gamma': [0, 1],\n",
       "                         'learning_rate': [0.01, 0.1],\n",
       "                         'max_depth': [10, 15, 20, 25],\n",
       "                         'objective': ['multi:softmax'], 'seed': [42],\n",
       "                         'subsample': [0.5]},\n",
       "             scoring='accuracy', verbose=3)"
      ]
     },
     "execution_count": 8,
     "metadata": {},
     "output_type": "execute_result"
    }
   ],
   "source": [
    "# XGBoost Classification model initialisation\n",
    "xgboost_clf = xgb.XGBClassifier(seed=42)\n",
    "\n",
    "# XGBoost Classification model's parameter grid\n",
    "f_xgboost_search = GridSearchCV(xgboost_clf,\n",
    "                            param_grid={'seed': [42],\n",
    "                                        'max_depth': [10,15,20,25],\n",
    "                                        'colsample_bytree': [0.75],\n",
    "                                        'subsample': [0.5],\n",
    "                                        'gamma': [0,1],\n",
    "                                        'learning_rate': [0.01,0.1],\n",
    "                                        'objective' : ['multi:softmax']\n",
    "                                        },\n",
    "                            scoring='accuracy',\n",
    "                           verbose=3)\n",
    "\n",
    "# Run fit with all sets of parameters\n",
    "f_xgboost_search.fit(Xs_train, y_train,sample_weight=class_weights)"
   ]
  },
  {
   "cell_type": "code",
   "execution_count": 9,
   "id": "b4fd87a9-398b-44c1-b230-6b4dce08734a",
   "metadata": {},
   "outputs": [
    {
     "name": "stdout",
     "output_type": "stream",
     "text": [
      "Best parameter for XGBoost Classification  {'colsample_bytree': 0.75, 'gamma': 0, 'learning_rate': 0.1, 'max_depth': 25, 'objective': 'multi:softmax', 'seed': 42, 'subsample': 0.5}\n",
      "Accuracy:  0.7904040404040404 \n",
      "\n"
     ]
    }
   ],
   "source": [
    "print(\"Best parameter for XGBoost Classification \", f_xgboost_search.best_params_)\n",
    "print(\"Accuracy: \", f_xgboost_search.best_score_, \"\\n\")"
   ]
  },
  {
   "cell_type": "code",
   "execution_count": 10,
   "id": "9a028e8c-8b2c-442b-9c14-c9d9d880a353",
   "metadata": {},
   "outputs": [
    {
     "name": "stdout",
     "output_type": "stream",
     "text": [
      "              precision    recall  f1-score   support\n",
      "\n",
      "           0       0.81      0.85      0.83      6452\n",
      "           1       0.44      0.39      0.42       863\n",
      "           2       0.82      0.78      0.80      4565\n",
      "\n",
      "    accuracy                           0.79     11880\n",
      "   macro avg       0.69      0.67      0.68     11880\n",
      "weighted avg       0.79      0.79      0.79     11880\n",
      "\n"
     ]
    },
    {
     "data": {
      "image/png": "[encoded data removed]",
      "text/plain": [
       "<Figure size 500x500 with 1 Axes>"
      ]
     },
     "metadata": {},
     "output_type": "display_data"
    }
   ],
   "source": [
    "# Fit XGBoost Classification with the best parameter \n",
    "xgboost = xgb.XGBClassifier(**f_xgboost_search.best_params_)\n",
    "\n",
    "xgboost.fit(Xs_train, y_train,sample_weight=class_weights)\n",
    "y_pred =xgboost.predict(Xs_test)\n",
    "cm = confusion_matrix(y_test, y_pred)\n",
    "\n",
    "# Plot confusion matrix\n",
    "fig, ax = plt.subplots(figsize=(5, 5))\n",
    "ax.matshow(cm, cmap=plt.cm.Blues, alpha=0.3)\n",
    "\n",
    "for i in range(cm.shape[0]):\n",
    "    for j in range(cm.shape[1]):\n",
    "        ax.text(x=j, y=i,\n",
    "        s=cm[i, j],\n",
    "        va='center', ha='center')\n",
    "\n",
    "classes=[\"functional\",\"functional need repair\",\"non functional\"]\n",
    "tick_marks = np.arange(len(classes))\n",
    "plt.xticks(tick_marks, classes, rotation=45)\n",
    "plt.yticks(tick_marks, classes)\n",
    "plt.xlabel('Predicted Values')\n",
    "plt.ylabel('Actual Values')\n",
    "\n",
    "print(classification_report(y_test, y_pred))"
   ]
  },
  {
   "cell_type": "code",
   "execution_count": 11,
   "id": "72f5f139-a8ed-4832-b1cf-22a46b3d6fe1",
   "metadata": {},
   "outputs": [
    {
     "name": "stdout",
     "output_type": "stream",
     "text": [
      "5-Fold cross-validation accuracy score for the training data for all the classifiers\n",
      "XGBoost        : 0.800021 (0.002052)\n"
     ]
    }
   ],
   "source": [
    "models = []\n",
    "models.append((\"XGBoost\", xgboost))\n",
    "\n",
    "# Test options and evaluation metric\n",
    "num_folds = 5\n",
    "num_instances = len(Xs_train)\n",
    "scoring = \"accuracy\"\n",
    "results = []\n",
    "names = []\n",
    "\n",
    "for name, model in models:\n",
    "    kf = KFold(n_splits=num_folds)\n",
    "    cv_results = cross_val_score(model, Xs_train, y_train, cv=kf, scoring=scoring, n_jobs=-1)\n",
    "    results.append(cv_results)\n",
    "    names.append(name)\n",
    "    \n",
    "print(\"5-Fold cross-validation accuracy score for the training data for all the classifiers\")\n",
    "\n",
    "for name, cv_results in zip(names, results):\n",
    "    print(\"%-15s: %.6f (%.6f)\" % (name, cv_results.mean(), cv_results.std()))"
   ]
  },
  {
   "cell_type": "markdown",
   "id": "66cdaed1-9ae8-4144-a1fd-f5286e02745b",
   "metadata": {},
   "source": [
    "---\n",
    "## Final Model using entire dataset"
   ]
  },
  {
   "cell_type": "code",
   "execution_count": 12,
   "id": "7bc2ac92-50b2-4d8f-bdec-d2dc6b26fe5e",
   "metadata": {},
   "outputs": [
    {
     "data": {
      "text/plain": [
       "XGBClassifier(base_score=0.5, booster='gbtree', callbacks=None,\n",
       "              colsample_bylevel=1, colsample_bynode=1, colsample_bytree=0.75,\n",
       "              early_stopping_rounds=None, enable_categorical=False,\n",
       "              eval_metric=None, gamma=0, gpu_id=-1, grow_policy='depthwise',\n",
       "              importance_type=None, interaction_constraints='',\n",
       "              learning_rate=0.1, max_bin=256, max_cat_to_onehot=4,\n",
       "              max_delta_step=0, max_depth=25, max_leaves=0, min_child_weight=1,\n",
       "              missing=nan, monotone_constraints='()', n_estimators=100,\n",
       "              n_jobs=0, num_parallel_tree=1, objective='multi:softmax',\n",
       "              predictor='auto', random_state=42, reg_alpha=0, ...)"
      ]
     },
     "execution_count": 12,
     "metadata": {},
     "output_type": "execute_result"
    }
   ],
   "source": [
    "# Initialise XGBoost classifier with the best parameter\n",
    "xgboost_model = xgb.XGBClassifier(**f_xgboost_search.best_params_)\n",
    "\n",
    "# Normalise data\n",
    "Xns = scaler.fit_transform(drivers)\n",
    "\n",
    "# Train XGBoost classifier with the entire dataset\n",
    "xgboost_model.fit(Xns, target)"
   ]
  },
  {
   "cell_type": "code",
   "execution_count": 13,
   "id": "ea639f99-8d81-4bdf-83f6-a0d9d6625a65",
   "metadata": {},
   "outputs": [],
   "source": [
    "# Save the model\n",
    "import pickle\n",
    "\n",
    "# Dump and save the Random Forest Classifier model\n",
    "with open(\"XGBoostClassifier.pickle\", \"wb\") as f:\n",
    "    pickle.dump(xgboost_model, f)"
   ]
  }
 ],
 "metadata": {
  "kernelspec": {
   "display_name": "Python 3 (ipykernel)",
   "language": "python",
   "name": "python3"
  },
  "language_info": {
   "codemirror_mode": {
    "name": "ipython",
    "version": 3
   },
   "file_extension": ".py",
   "mimetype": "text/x-python",
   "name": "python",
   "nbconvert_exporter": "python",
   "pygments_lexer": "ipython3",
   "version": "3.7.16"
  }
 },
 "nbformat": 4,
 "nbformat_minor": 5
}
