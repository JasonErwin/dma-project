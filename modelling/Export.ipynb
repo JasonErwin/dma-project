{
 "cells": [
  {
   "cell_type": "code",
   "execution_count": 1,
   "id": "bd80609b-7e9f-43a0-8d8a-aae8e984d261",
   "metadata": {},
   "outputs": [],
   "source": [
    "# Feature normalisation\n",
    "from sklearn.preprocessing import StandardScaler\n",
    "\n",
    "import warnings\n",
    "warnings.filterwarnings('ignore')\n",
    "import pickle\n",
    "import pandas as pd\n",
    "import numpy as np\n",
    "\n",
    "from sklearn.preprocessing import LabelEncoder"
   ]
  },
  {
   "cell_type": "code",
   "execution_count": 2,
   "id": "0e312239-c21d-4912-8874-44ff515ab319",
   "metadata": {},
   "outputs": [],
   "source": [
    "# Read the RandomForestClassification model using pickle\n",
    "with open(\"RandomForestClassifier.pickle\", \"rb\") as f:\n",
    "    random_forest_classifier = pickle.load(f)"
   ]
  },
  {
   "cell_type": "code",
   "execution_count": 3,
   "id": "01fc752b-0d0b-471b-8865-2d81f0b09c6c",
   "metadata": {},
   "outputs": [],
   "source": [
    "test_df = pd.read_csv(\"Test_Set_Values.csv\")"
   ]
  },
  {
   "cell_type": "code",
   "execution_count": 4,
   "id": "0e52e614-50f4-4fc5-b98f-5a58257a1b19",
   "metadata": {},
   "outputs": [],
   "source": [
    "# Store the 'ID' column\n",
    "ID_data = test_df['id']"
   ]
  },
  {
   "cell_type": "code",
   "execution_count": 5,
   "id": "14aca73a-f8eb-4d9c-ac14-49bbd5ca3e61",
   "metadata": {},
   "outputs": [],
   "source": [
    "test_df['longitude_imputation'] = test_df['longitude']\n",
    "test_df['latitude_imputation'] = test_df['latitude']\n",
    "\n",
    "test_df['longitude_imputation'] = test_df['longitude_imputation'].replace(0, np.nan)\n",
    "test_df['longitude_imputation'] = test_df['longitude_imputation'].fillna(test_df.groupby('region')['longitude_imputation'].transform('mean'))\n",
    "\n",
    "test_df['latitude_imputation'] = test_df['latitude_imputation'].replace(-2.000000e-08, np.nan)\n",
    "test_df['latitude_imputation'] = test_df['latitude_imputation'].fillna(test_df.groupby('region')['latitude_imputation'].transform('mean'))"
   ]
  },
  {
   "cell_type": "code",
   "execution_count": 6,
   "id": "d41955c3-44c6-4786-998e-b0302d49f23e",
   "metadata": {},
   "outputs": [],
   "source": [
    "test_df['recorded_year'] = pd.DatetimeIndex(test_df ['date_recorded']).year\n",
    "test_df['age'] = test_df['recorded_year'] - test_df['construction_year']\n",
    "test_df['age'] = test_df['age'].apply(lambda x: x if x < 100 else -1)\n",
    "test_df = test_df.drop('recorded_year',axis=1)"
   ]
  },
  {
   "cell_type": "code",
   "execution_count": 7,
   "id": "53d9f44f-6838-40ef-a7c9-4a7b97709d2a",
   "metadata": {},
   "outputs": [],
   "source": [
    "test_df['funder'] = test_df['funder'].replace(['Kkkt_makwale', 'Kkkt Church','Kkkt-dioces Ya Pare','Kkkt Dme','Kkkt Ndrumangeni',\n",
    "                      'Kkkt Canal','Kkkt Mareu','Kkkt Usa','Kkkt Leguruki'], 'Kkkt')\n",
    "test_df['funder'] = test_df['funder'].replace(['Hhesawa'], 'Hesawa')\n",
    "test_df['funder'] = test_df['funder'].replace(['Nrwssp','Rwssp Shinyanga','Drwssp'], 'Rwssp')\n",
    "test_df['funder'] = test_df['funder'].replace(['Tasafu','Tasaf 1','Tasaf Ii'], 'Tasaf')\n",
    "test_df['funder'] = test_df['funder'].replace(['Kilindi District Co','Songea District Council','Sengerema District Council','Mbozi District Council',\n",
    "                                                       'Sangea District Council','Cdtfdistrict Council','Mkinga  Distric Cou'], 'District Council')\n",
    "test_df['funder'] = test_df['funder'].replace(['Dhv Moro'], 'Dhv')\n",
    "test_df['funder'] = test_df['funder'].replace(['Germany Republi','Germany'], 'Germany')\n",
    "test_df['funder'] = test_df['funder'].replace(['Tcrs Kibondo','Tcrst'], 'Tcrs')\n",
    "test_df['funder'] = test_df['funder'].replace(['Netherland'], 'Netherlands')\n",
    "test_df['funder'] = test_df['funder'].replace(['Ruangwa Lga'], 'Lga')\n",
    "test_df['funder'] = test_df['funder'].replace(['Amrefe'], 'Amref')\n",
    "test_df['funder'] = test_df['funder'].replace(['Oxfam Gb'], 'Oxfam')\n",
    "test_df['funder'] = test_df['funder'].replace(['Unicet'], 'Unicef')\n",
    "test_df['funder'] = test_df['funder'].replace(['Rc Church','Rc','Rc Ch','Rc Churc','Rc Mission','Rc Cathoric','Rc Njoro','Rc Mofu','Rc Mi','Rc Missionary',\n",
    "                                                       'Rc Missi','Rc Msufi'], 'RC')\n",
    "test_df['funder'] = test_df['funder'].replace(['Missionaries','Missionary','Neemia Mission','German Missionary','Germany Missionary','Cpps Mission',\n",
    "                                                      'Heri Mission'], 'Mission')\n",
    "test_df['funder'] = test_df['funder'].replace(['Private Owned','Private Institutions','Private Co','Private Person','Private Individul'], 'Private')\n",
    "test_df['funder'] = test_df['funder'].replace(['Roman Catholic','Roman Cathoric-same','Roman Cathoric Same','Roman Church','Roman Catholic Rulenge Diocese',\n",
    "                                                      'Roman Cathoric -kilomeni','Roman Ca','Roman Cathoric','Roman Cathoric Church'], 'Roman')\n",
    "test_df['funder'] = test_df['funder'].replace(['Rural Water Supply And Sanitat','Rural Water Supply And Sanita','Rural Water Supply','Rural Water Department'], 'Rural Water Supply')\n",
    "test_df['funder'] = test_df['funder'].replace(['Ces (gmbh)'], 'Ces(gmbh)')\n",
    "test_df['funder'] = test_df['funder'].replace(['Dwsdp'], 'WSDP')\n",
    "test_df['funder'] = test_df['funder'].replace(['Finwater'], 'Finw')\n",
    "test_df['funder'] = test_df['funder'].replace(['Plan International','Plan Internatio'], 'Plan Int')\n",
    "test_df['funder'] = test_df['funder'].replace(['Oikos E.Afrika'], 'Oikos')\n",
    "test_df['funder'] = test_df['funder'].replace(['Concern World Wide'], 'Concern')\n",
    "test_df['funder'] = test_df['funder'].replace(['African Development Bank','African Relie','African Muslim Agency','African Development Foundation','African Barrick Gold',\n",
    "                                                      'African Realief Committe Of Ku','African 2000 Network','African Reflections Foundation'], 'African')\n",
    "test_df['funder'] = test_df['funder'].replace(['Snv Ltd','Snv-swash'], 'Snv')\n",
    "test_df['funder'] = test_df['funder'].replace(['Villagers Mpi'], 'Villagers')\n",
    "test_df['funder'] = test_df['funder'].replace(['Halmashauri Ya Wilaya Sikonge','Halmashauri Ya Manispa Tabora','Halmashauri Ya Wilaya','Halmashauri Wil','Gra Na Halmashauri'], 'Halmashauri')"
   ]
  },
  {
   "cell_type": "code",
   "execution_count": 8,
   "id": "5f9a8288-0b2b-4622-ac2b-4a938c80abf7",
   "metadata": {},
   "outputs": [],
   "source": [
    "def label_funder (row):\n",
    "    if row['funder'] in ['Government Of Tanzania']:\n",
    "        return \"GOV\"\n",
    "    if row['funder'] in ['Unknown']:\n",
    "        return \"Unknown\"\n",
    "    if row['funder'] in ['Danida']:\n",
    "        return \"DANIDA\"\n",
    "    if row['funder'] in ['Hesawa']:\n",
    "        return \"HESAWA\"\n",
    "    if row['funder'] in ['Rwssp']:\n",
    "        return \"RWSSP\"\n",
    "    if row['funder'] in ['World Bank']:\n",
    "        return \"WORLD BANK\"\n",
    "    if row['funder'] in ['Kkkt']:\n",
    "        return \"ELCT\"\n",
    "    if row['funder'] in ['World Vision']:\n",
    "        return \"WORLD VISION\"\n",
    "    if row['funder'] in ['Unicef']:\n",
    "        return \"UNICEF\"\n",
    "    if row['funder'] in ['District Council']:\n",
    "        return \"DISTRICT COUNCIL\"\n",
    "    return \"OTHER\"\n",
    "\n",
    "test_df['funder_grouped'] = test_df.apply(lambda row: label_funder(row), axis=1)"
   ]
  },
  {
   "cell_type": "code",
   "execution_count": 9,
   "id": "a1574679-0d5e-42c5-9386-04e480ae6126",
   "metadata": {},
   "outputs": [],
   "source": [
    "class MultiColumnLabelEncoder:\n",
    "    def __init__(self,columns = None):\n",
    "        self.columns = columns # array of column names to encode\n",
    "\n",
    "    def fit(self,X,y=None):\n",
    "        return self # not relevant here\n",
    "\n",
    "    def transform(self,X):\n",
    "        '''\n",
    "        Transforms columns of X specified in self.columns using\n",
    "        LabelEncoder(). If no columns specified, transforms all\n",
    "        columns in X.\n",
    "        '''\n",
    "        output = X.copy()\n",
    "        if self.columns is not None:\n",
    "            for col in self.columns:\n",
    "                output[col] = LabelEncoder().fit_transform(output[col])\n",
    "        else:\n",
    "            for colname,col in output.iteritems():\n",
    "                output[colname] = LabelEncoder().fit_transform(col)\n",
    "        return output\n",
    "\n",
    "    def fit_transform(self,X,y=None):\n",
    "        return self.fit(X,y).transform(X)"
   ]
  },
  {
   "cell_type": "code",
   "execution_count": 10,
   "id": "e6c1ac30-9b38-41cd-87f3-7809e85b7c46",
   "metadata": {},
   "outputs": [],
   "source": [
    "test_df = MultiColumnLabelEncoder(columns = ['quantity','extraction_type_class','waterpoint_type_group','payment_type','source_type','funder_grouped']).fit_transform(test_df)"
   ]
  },
  {
   "cell_type": "code",
   "execution_count": 11,
   "id": "62fd42a7-630a-4570-a63e-a74564af5eba",
   "metadata": {},
   "outputs": [],
   "source": [
    "feature_selected_df = test_df[['longitude_imputation','latitude_imputation','quantity','extraction_type_class','gps_height','age',\n",
    "                               'waterpoint_type_group','population','payment_type','source_type','amount_tsh','funder_grouped']]"
   ]
  },
  {
   "cell_type": "code",
   "execution_count": 12,
   "id": "3a998756-4be0-450a-93bd-7e9feb6f5605",
   "metadata": {},
   "outputs": [],
   "source": [
    "scaler = StandardScaler()\n",
    "Xs_predict = scaler.fit_transform(feature_selected_df)"
   ]
  },
  {
   "cell_type": "code",
   "execution_count": 13,
   "id": "da0deaee-bf90-489e-b44f-24fd21c4d90e",
   "metadata": {},
   "outputs": [],
   "source": [
    "testing_predictions = random_forest_classifier.predict(Xs_predict)"
   ]
  },
  {
   "cell_type": "code",
   "execution_count": 15,
   "id": "df379bbb-59bf-425c-a012-95edb031cc0e",
   "metadata": {},
   "outputs": [],
   "source": [
    "target_df = pd.DataFrame({'ID': ID_data, 'status_group': testing_predictions})\n",
    "target_df = target_df.replace({'status_group' : { 0 : \"functional\", 1 : \"functional needs repair\", 2 : \"non functional\" } } )\n",
    "target_df.to_excel(\"Submission.xls\")"
   ]
  }
 ],
 "metadata": {
  "kernelspec": {
   "display_name": "Python 3 (ipykernel)",
   "language": "python",
   "name": "python3"
  },
  "language_info": {
   "codemirror_mode": {
    "name": "ipython",
    "version": 3
   },
   "file_extension": ".py",
   "mimetype": "text/x-python",
   "name": "python",
   "nbconvert_exporter": "python",
   "pygments_lexer": "ipython3",
   "version": "3.7.16"
  }
 },
 "nbformat": 4,
 "nbformat_minor": 5
}
