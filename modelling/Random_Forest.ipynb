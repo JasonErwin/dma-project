{
 "cells": [
  {
   "cell_type": "code",
   "execution_count": 1,
   "id": "79bb9830-233b-4625-8b6c-6bed9fdc562f",
   "metadata": {},
   "outputs": [],
   "source": [
    "import pandas as pd\n",
    "import numpy as np\n",
    "import matplotlib.pyplot as plt\n",
    "\n",
    "# Train test split\n",
    "from sklearn.model_selection import train_test_split\n",
    "\n",
    "# Feature normalisation\n",
    "from sklearn.preprocessing import StandardScaler\n",
    "\n",
    "# Model hyperparameter tuning\n",
    "from sklearn.model_selection import GridSearchCV \n",
    "\n",
    "# Models\n",
    "from sklearn.ensemble import RandomForestClassifier\n",
    "from xgboost import XGBClassifier\n",
    "\n",
    "# Model Evaluation Section -----\n",
    "from sklearn.metrics import confusion_matrix, classification_report\n",
    "from sklearn.metrics import accuracy_score\n",
    "\n",
    "# Cross Validation\n",
    "from sklearn.model_selection import cross_val_score\n",
    "from sklearn.model_selection import KFold, StratifiedKFold"
   ]
  },
  {
   "cell_type": "code",
   "execution_count": 2,
   "id": "cf0c684f-f6e4-4076-bf96-18fd2555594a",
   "metadata": {},
   "outputs": [],
   "source": [
    "df = pd.read_csv(\"../datasets/water_fe.csv\")\n",
    "df.drop(\"Unnamed: 0\", axis=1, inplace=True)"
   ]
  },
  {
   "cell_type": "code",
   "execution_count": 3,
   "id": "35dc880d-4110-4e4e-b4d8-9d4c49ad29b6",
   "metadata": {},
   "outputs": [],
   "source": [
    "# drivers = df[['longitude_imputation','latitude_imputation','quantity','extraction_type_class','gps_height','age',\n",
    "#                                'waterpoint_type_group','population_original','payment_type','source_type','amount_tsh','funder_grouped']] -> Current Best\n",
    "\n",
    "# drivers = df[['longitude_imputation','latitude_imputation','quantity','extraction_type_class','gps_height','age',\n",
    "#               'waterpoint_type_group','population_original','payment_type','source_type','amount_tsh','funder_grouped','scheme_management'\n",
    "#               ,'construction_decade','basin']]\n",
    "              \n",
    "drivers = df[['longitude_imputation','latitude_imputation','quantity','extraction_type_class','gps_height','age',\n",
    "              'waterpoint_type_group','population_original','payment_type','source_type','funder_grouped',\n",
    "              'basin','installer_grouped','management','water_quality','public_meeting']]\n",
    "\n",
    "target = df['outcome']"
   ]
  },
  {
   "cell_type": "code",
   "execution_count": 4,
   "id": "877a8864-d702-410b-9a05-1dfb89993021",
   "metadata": {},
   "outputs": [],
   "source": [
    "X_train, X_test, y_train, y_test = train_test_split(drivers, \n",
    "                                                    target,\n",
    "                                                    test_size=0.2,\n",
    "                                                    stratify=target,\n",
    "                                                    random_state=42)"
   ]
  },
  {
   "cell_type": "code",
   "execution_count": 5,
   "id": "7e54becd-3231-4f76-a1e5-1d2704f3c43c",
   "metadata": {},
   "outputs": [],
   "source": [
    "scaler = StandardScaler()\n",
    "Xs_train = scaler.fit_transform(X_train)\n",
    "Xs_test = scaler.fit_transform(X_test)"
   ]
  },
  {
   "cell_type": "markdown",
   "id": "03576ef7-9f6d-473e-975d-910d370ce488",
   "metadata": {},
   "source": [
    "___\n",
    "# <ins>Model Building<ins>"
   ]
  },
  {
   "cell_type": "code",
   "execution_count": 6,
   "id": "f9df7e80-108c-4831-adb8-14a0dad06209",
   "metadata": {},
   "outputs": [],
   "source": [
    "# Random Forest Classification model initialisation\n",
    "rf_clf = RandomForestClassifier(random_state=42)\n",
    "\n",
    "# Random Forest Classification model's parameter grid\n",
    "f_rf_search = GridSearchCV(rf_clf,\n",
    "                            param_grid={'random_state': [42],\n",
    "                                        'n_estimators': np.arange(64,128,8).tolist(),\n",
    "                                        'max_features': ['auto', 'sqrt', 'log2'],\n",
    "                                        'criterion' :['gini'],\n",
    "                                        'class_weight' : ['balanced']\n",
    "                                        },\n",
    "                            scoring='accuracy',\n",
    "                           verbose=3)"
   ]
  },
  {
   "cell_type": "code",
   "execution_count": 7,
   "id": "47caf40b-ddc2-4477-a430-7a4e7baf25b6",
   "metadata": {
    "scrolled": true,
    "tags": []
   },
   "outputs": [
    {
     "name": "stdout",
     "output_type": "stream",
     "text": [
      "Fitting 5 folds for each of 24 candidates, totalling 120 fits\n",
      "[CV 1/5] END class_weight=balanced, criterion=gini, max_features=auto, n_estimators=64, random_state=42;, score=0.795 total time=   2.3s\n",
      "[CV 2/5] END class_weight=balanced, criterion=gini, max_features=auto, n_estimators=64, random_state=42;, score=0.794 total time=   4.6s\n",
      "[CV 3/5] END class_weight=balanced, criterion=gini, max_features=auto, n_estimators=64, random_state=42;, score=0.803 total time=   7.2s\n",
      "[CV 4/5] END class_weight=balanced, criterion=gini, max_features=auto, n_estimators=64, random_state=42;, score=0.801 total time=   7.3s\n",
      "[CV 5/5] END class_weight=balanced, criterion=gini, max_features=auto, n_estimators=64, random_state=42;, score=0.796 total time=   7.3s\n",
      "[CV 1/5] END class_weight=balanced, criterion=gini, max_features=auto, n_estimators=72, random_state=42;, score=0.794 total time=   7.1s\n",
      "[CV 2/5] END class_weight=balanced, criterion=gini, max_features=auto, n_estimators=72, random_state=42;, score=0.795 total time=   7.7s\n",
      "[CV 3/5] END class_weight=balanced, criterion=gini, max_features=auto, n_estimators=72, random_state=42;, score=0.801 total time=   7.9s\n",
      "[CV 4/5] END class_weight=balanced, criterion=gini, max_features=auto, n_estimators=72, random_state=42;, score=0.801 total time=   8.0s\n",
      "[CV 5/5] END class_weight=balanced, criterion=gini, max_features=auto, n_estimators=72, random_state=42;, score=0.795 total time=   8.2s\n",
      "[CV 1/5] END class_weight=balanced, criterion=gini, max_features=auto, n_estimators=80, random_state=42;, score=0.793 total time=   9.1s\n",
      "[CV 2/5] END class_weight=balanced, criterion=gini, max_features=auto, n_estimators=80, random_state=42;, score=0.795 total time=   9.1s\n",
      "[CV 3/5] END class_weight=balanced, criterion=gini, max_features=auto, n_estimators=80, random_state=42;, score=0.801 total time=   9.2s\n",
      "[CV 4/5] END class_weight=balanced, criterion=gini, max_features=auto, n_estimators=80, random_state=42;, score=0.802 total time=   8.9s\n",
      "[CV 5/5] END class_weight=balanced, criterion=gini, max_features=auto, n_estimators=80, random_state=42;, score=0.795 total time=   8.6s\n",
      "[CV 1/5] END class_weight=balanced, criterion=gini, max_features=auto, n_estimators=88, random_state=42;, score=0.791 total time=   9.9s\n",
      "[CV 2/5] END class_weight=balanced, criterion=gini, max_features=auto, n_estimators=88, random_state=42;, score=0.795 total time=  10.0s\n",
      "[CV 3/5] END class_weight=balanced, criterion=gini, max_features=auto, n_estimators=88, random_state=42;, score=0.801 total time=  10.1s\n",
      "[CV 4/5] END class_weight=balanced, criterion=gini, max_features=auto, n_estimators=88, random_state=42;, score=0.801 total time=  10.0s\n",
      "[CV 5/5] END class_weight=balanced, criterion=gini, max_features=auto, n_estimators=88, random_state=42;, score=0.795 total time=   9.6s\n",
      "[CV 1/5] END class_weight=balanced, criterion=gini, max_features=auto, n_estimators=96, random_state=42;, score=0.792 total time=  10.9s\n",
      "[CV 2/5] END class_weight=balanced, criterion=gini, max_features=auto, n_estimators=96, random_state=42;, score=0.795 total time=  10.9s\n",
      "[CV 3/5] END class_weight=balanced, criterion=gini, max_features=auto, n_estimators=96, random_state=42;, score=0.803 total time=  10.6s\n",
      "[CV 4/5] END class_weight=balanced, criterion=gini, max_features=auto, n_estimators=96, random_state=42;, score=0.801 total time=  11.0s\n",
      "[CV 5/5] END class_weight=balanced, criterion=gini, max_features=auto, n_estimators=96, random_state=42;, score=0.794 total time=  11.1s\n",
      "[CV 1/5] END class_weight=balanced, criterion=gini, max_features=auto, n_estimators=104, random_state=42;, score=0.792 total time=  11.9s\n",
      "[CV 2/5] END class_weight=balanced, criterion=gini, max_features=auto, n_estimators=104, random_state=42;, score=0.794 total time=  11.7s\n",
      "[CV 3/5] END class_weight=balanced, criterion=gini, max_features=auto, n_estimators=104, random_state=42;, score=0.802 total time=  12.0s\n",
      "[CV 4/5] END class_weight=balanced, criterion=gini, max_features=auto, n_estimators=104, random_state=42;, score=0.801 total time=  11.9s\n",
      "[CV 5/5] END class_weight=balanced, criterion=gini, max_features=auto, n_estimators=104, random_state=42;, score=0.795 total time=  11.8s\n",
      "[CV 1/5] END class_weight=balanced, criterion=gini, max_features=auto, n_estimators=112, random_state=42;, score=0.793 total time=  12.3s\n",
      "[CV 2/5] END class_weight=balanced, criterion=gini, max_features=auto, n_estimators=112, random_state=42;, score=0.794 total time=  12.5s\n",
      "[CV 3/5] END class_weight=balanced, criterion=gini, max_features=auto, n_estimators=112, random_state=42;, score=0.801 total time=  12.4s\n",
      "[CV 4/5] END class_weight=balanced, criterion=gini, max_features=auto, n_estimators=112, random_state=42;, score=0.801 total time=  12.3s\n",
      "[CV 5/5] END class_weight=balanced, criterion=gini, max_features=auto, n_estimators=112, random_state=42;, score=0.795 total time=  11.8s\n",
      "[CV 1/5] END class_weight=balanced, criterion=gini, max_features=auto, n_estimators=120, random_state=42;, score=0.792 total time=  12.6s\n",
      "[CV 2/5] END class_weight=balanced, criterion=gini, max_features=auto, n_estimators=120, random_state=42;, score=0.795 total time=  13.6s\n",
      "[CV 3/5] END class_weight=balanced, criterion=gini, max_features=auto, n_estimators=120, random_state=42;, score=0.803 total time=  13.9s\n",
      "[CV 4/5] END class_weight=balanced, criterion=gini, max_features=auto, n_estimators=120, random_state=42;, score=0.801 total time=  13.6s\n",
      "[CV 5/5] END class_weight=balanced, criterion=gini, max_features=auto, n_estimators=120, random_state=42;, score=0.795 total time=  13.9s\n",
      "[CV 1/5] END class_weight=balanced, criterion=gini, max_features=sqrt, n_estimators=64, random_state=42;, score=0.795 total time=   7.4s\n",
      "[CV 2/5] END class_weight=balanced, criterion=gini, max_features=sqrt, n_estimators=64, random_state=42;, score=0.794 total time=   7.5s\n",
      "[CV 3/5] END class_weight=balanced, criterion=gini, max_features=sqrt, n_estimators=64, random_state=42;, score=0.803 total time=   7.4s\n",
      "[CV 4/5] END class_weight=balanced, criterion=gini, max_features=sqrt, n_estimators=64, random_state=42;, score=0.801 total time=   7.4s\n",
      "[CV 5/5] END class_weight=balanced, criterion=gini, max_features=sqrt, n_estimators=64, random_state=42;, score=0.796 total time=   7.6s\n",
      "[CV 1/5] END class_weight=balanced, criterion=gini, max_features=sqrt, n_estimators=72, random_state=42;, score=0.794 total time=   8.3s\n",
      "[CV 2/5] END class_weight=balanced, criterion=gini, max_features=sqrt, n_estimators=72, random_state=42;, score=0.795 total time=   8.2s\n",
      "[CV 3/5] END class_weight=balanced, criterion=gini, max_features=sqrt, n_estimators=72, random_state=42;, score=0.801 total time=   8.2s\n",
      "[CV 4/5] END class_weight=balanced, criterion=gini, max_features=sqrt, n_estimators=72, random_state=42;, score=0.801 total time=   8.0s\n",
      "[CV 5/5] END class_weight=balanced, criterion=gini, max_features=sqrt, n_estimators=72, random_state=42;, score=0.795 total time=   8.2s\n",
      "[CV 1/5] END class_weight=balanced, criterion=gini, max_features=sqrt, n_estimators=80, random_state=42;, score=0.793 total time=   8.5s\n",
      "[CV 2/5] END class_weight=balanced, criterion=gini, max_features=sqrt, n_estimators=80, random_state=42;, score=0.795 total time=   9.1s\n",
      "[CV 3/5] END class_weight=balanced, criterion=gini, max_features=sqrt, n_estimators=80, random_state=42;, score=0.801 total time=   9.0s\n",
      "[CV 4/5] END class_weight=balanced, criterion=gini, max_features=sqrt, n_estimators=80, random_state=42;, score=0.802 total time=   9.0s\n",
      "[CV 5/5] END class_weight=balanced, criterion=gini, max_features=sqrt, n_estimators=80, random_state=42;, score=0.795 total time=   9.2s\n",
      "[CV 1/5] END class_weight=balanced, criterion=gini, max_features=sqrt, n_estimators=88, random_state=42;, score=0.791 total time=   9.8s\n",
      "[CV 2/5] END class_weight=balanced, criterion=gini, max_features=sqrt, n_estimators=88, random_state=42;, score=0.795 total time=  10.1s\n",
      "[CV 3/5] END class_weight=balanced, criterion=gini, max_features=sqrt, n_estimators=88, random_state=42;, score=0.801 total time=   9.8s\n",
      "[CV 4/5] END class_weight=balanced, criterion=gini, max_features=sqrt, n_estimators=88, random_state=42;, score=0.801 total time=  10.1s\n",
      "[CV 5/5] END class_weight=balanced, criterion=gini, max_features=sqrt, n_estimators=88, random_state=42;, score=0.795 total time=   9.9s\n",
      "[CV 1/5] END class_weight=balanced, criterion=gini, max_features=sqrt, n_estimators=96, random_state=42;, score=0.792 total time=  10.9s\n",
      "[CV 2/5] END class_weight=balanced, criterion=gini, max_features=sqrt, n_estimators=96, random_state=42;, score=0.795 total time=  10.8s\n",
      "[CV 3/5] END class_weight=balanced, criterion=gini, max_features=sqrt, n_estimators=96, random_state=42;, score=0.803 total time=  10.9s\n",
      "[CV 4/5] END class_weight=balanced, criterion=gini, max_features=sqrt, n_estimators=96, random_state=42;, score=0.801 total time=  10.8s\n",
      "[CV 5/5] END class_weight=balanced, criterion=gini, max_features=sqrt, n_estimators=96, random_state=42;, score=0.794 total time=  11.0s\n",
      "[CV 1/5] END class_weight=balanced, criterion=gini, max_features=sqrt, n_estimators=104, random_state=42;, score=0.792 total time=  11.8s\n",
      "[CV 2/5] END class_weight=balanced, criterion=gini, max_features=sqrt, n_estimators=104, random_state=42;, score=0.794 total time=  11.8s\n",
      "[CV 3/5] END class_weight=balanced, criterion=gini, max_features=sqrt, n_estimators=104, random_state=42;, score=0.802 total time=  11.8s\n",
      "[CV 4/5] END class_weight=balanced, criterion=gini, max_features=sqrt, n_estimators=104, random_state=42;, score=0.801 total time=  12.0s\n",
      "[CV 5/5] END class_weight=balanced, criterion=gini, max_features=sqrt, n_estimators=104, random_state=42;, score=0.795 total time=  11.6s\n",
      "[CV 1/5] END class_weight=balanced, criterion=gini, max_features=sqrt, n_estimators=112, random_state=42;, score=0.793 total time=  12.5s\n",
      "[CV 2/5] END class_weight=balanced, criterion=gini, max_features=sqrt, n_estimators=112, random_state=42;, score=0.794 total time=  12.8s\n",
      "[CV 3/5] END class_weight=balanced, criterion=gini, max_features=sqrt, n_estimators=112, random_state=42;, score=0.801 total time=  13.0s\n",
      "[CV 4/5] END class_weight=balanced, criterion=gini, max_features=sqrt, n_estimators=112, random_state=42;, score=0.801 total time=  12.4s\n",
      "[CV 5/5] END class_weight=balanced, criterion=gini, max_features=sqrt, n_estimators=112, random_state=42;, score=0.795 total time=  12.8s\n",
      "[CV 1/5] END class_weight=balanced, criterion=gini, max_features=sqrt, n_estimators=120, random_state=42;, score=0.792 total time=  13.7s\n",
      "[CV 2/5] END class_weight=balanced, criterion=gini, max_features=sqrt, n_estimators=120, random_state=42;, score=0.795 total time=  13.4s\n",
      "[CV 3/5] END class_weight=balanced, criterion=gini, max_features=sqrt, n_estimators=120, random_state=42;, score=0.803 total time=  13.7s\n",
      "[CV 4/5] END class_weight=balanced, criterion=gini, max_features=sqrt, n_estimators=120, random_state=42;, score=0.801 total time=  13.7s\n",
      "[CV 5/5] END class_weight=balanced, criterion=gini, max_features=sqrt, n_estimators=120, random_state=42;, score=0.795 total time=  13.8s\n",
      "[CV 1/5] END class_weight=balanced, criterion=gini, max_features=log2, n_estimators=64, random_state=42;, score=0.795 total time=   7.4s\n",
      "[CV 2/5] END class_weight=balanced, criterion=gini, max_features=log2, n_estimators=64, random_state=42;, score=0.794 total time=   7.4s\n",
      "[CV 3/5] END class_weight=balanced, criterion=gini, max_features=log2, n_estimators=64, random_state=42;, score=0.803 total time=   7.3s\n",
      "[CV 4/5] END class_weight=balanced, criterion=gini, max_features=log2, n_estimators=64, random_state=42;, score=0.801 total time=   6.7s\n",
      "[CV 5/5] END class_weight=balanced, criterion=gini, max_features=log2, n_estimators=64, random_state=42;, score=0.796 total time=   7.5s\n",
      "[CV 1/5] END class_weight=balanced, criterion=gini, max_features=log2, n_estimators=72, random_state=42;, score=0.794 total time=   8.3s\n",
      "[CV 2/5] END class_weight=balanced, criterion=gini, max_features=log2, n_estimators=72, random_state=42;, score=0.795 total time=   8.2s\n",
      "[CV 3/5] END class_weight=balanced, criterion=gini, max_features=log2, n_estimators=72, random_state=42;, score=0.801 total time=   8.4s\n",
      "[CV 4/5] END class_weight=balanced, criterion=gini, max_features=log2, n_estimators=72, random_state=42;, score=0.801 total time=   8.3s\n",
      "[CV 5/5] END class_weight=balanced, criterion=gini, max_features=log2, n_estimators=72, random_state=42;, score=0.795 total time=   8.3s\n",
      "[CV 1/5] END class_weight=balanced, criterion=gini, max_features=log2, n_estimators=80, random_state=42;, score=0.793 total time=   9.2s\n",
      "[CV 2/5] END class_weight=balanced, criterion=gini, max_features=log2, n_estimators=80, random_state=42;, score=0.795 total time=   9.1s\n",
      "[CV 3/5] END class_weight=balanced, criterion=gini, max_features=log2, n_estimators=80, random_state=42;, score=0.801 total time=   9.2s\n",
      "[CV 4/5] END class_weight=balanced, criterion=gini, max_features=log2, n_estimators=80, random_state=42;, score=0.802 total time=   8.8s\n",
      "[CV 5/5] END class_weight=balanced, criterion=gini, max_features=log2, n_estimators=80, random_state=42;, score=0.795 total time=   9.2s\n",
      "[CV 1/5] END class_weight=balanced, criterion=gini, max_features=log2, n_estimators=88, random_state=42;, score=0.791 total time=  10.0s\n",
      "[CV 2/5] END class_weight=balanced, criterion=gini, max_features=log2, n_estimators=88, random_state=42;, score=0.795 total time=  10.0s\n",
      "[CV 3/5] END class_weight=balanced, criterion=gini, max_features=log2, n_estimators=88, random_state=42;, score=0.801 total time=  10.2s\n",
      "[CV 4/5] END class_weight=balanced, criterion=gini, max_features=log2, n_estimators=88, random_state=42;, score=0.801 total time=  10.0s\n",
      "[CV 5/5] END class_weight=balanced, criterion=gini, max_features=log2, n_estimators=88, random_state=42;, score=0.795 total time=  10.1s\n",
      "[CV 1/5] END class_weight=balanced, criterion=gini, max_features=log2, n_estimators=96, random_state=42;, score=0.792 total time=  10.9s\n",
      "[CV 2/5] END class_weight=balanced, criterion=gini, max_features=log2, n_estimators=96, random_state=42;, score=0.795 total time=  10.8s\n",
      "[CV 3/5] END class_weight=balanced, criterion=gini, max_features=log2, n_estimators=96, random_state=42;, score=0.803 total time=  11.0s\n",
      "[CV 4/5] END class_weight=balanced, criterion=gini, max_features=log2, n_estimators=96, random_state=42;, score=0.801 total time=  10.5s\n",
      "[CV 5/5] END class_weight=balanced, criterion=gini, max_features=log2, n_estimators=96, random_state=42;, score=0.794 total time=  10.7s\n",
      "[CV 1/5] END class_weight=balanced, criterion=gini, max_features=log2, n_estimators=104, random_state=42;, score=0.792 total time=  11.7s\n",
      "[CV 2/5] END class_weight=balanced, criterion=gini, max_features=log2, n_estimators=104, random_state=42;, score=0.794 total time=  11.7s\n",
      "[CV 3/5] END class_weight=balanced, criterion=gini, max_features=log2, n_estimators=104, random_state=42;, score=0.802 total time=  11.8s\n",
      "[CV 4/5] END class_weight=balanced, criterion=gini, max_features=log2, n_estimators=104, random_state=42;, score=0.801 total time=  11.6s\n",
      "[CV 5/5] END class_weight=balanced, criterion=gini, max_features=log2, n_estimators=104, random_state=42;, score=0.795 total time=  11.9s\n",
      "[CV 1/5] END class_weight=balanced, criterion=gini, max_features=log2, n_estimators=112, random_state=42;, score=0.793 total time=  12.8s\n",
      "[CV 2/5] END class_weight=balanced, criterion=gini, max_features=log2, n_estimators=112, random_state=42;, score=0.794 total time=  12.6s\n",
      "[CV 3/5] END class_weight=balanced, criterion=gini, max_features=log2, n_estimators=112, random_state=42;, score=0.801 total time=  12.9s\n",
      "[CV 4/5] END class_weight=balanced, criterion=gini, max_features=log2, n_estimators=112, random_state=42;, score=0.801 total time=  12.9s\n",
      "[CV 5/5] END class_weight=balanced, criterion=gini, max_features=log2, n_estimators=112, random_state=42;, score=0.795 total time=  12.1s\n",
      "[CV 1/5] END class_weight=balanced, criterion=gini, max_features=log2, n_estimators=120, random_state=42;, score=0.792 total time=  13.0s\n",
      "[CV 2/5] END class_weight=balanced, criterion=gini, max_features=log2, n_estimators=120, random_state=42;, score=0.795 total time=  13.6s\n",
      "[CV 3/5] END class_weight=balanced, criterion=gini, max_features=log2, n_estimators=120, random_state=42;, score=0.803 total time=  13.5s\n",
      "[CV 4/5] END class_weight=balanced, criterion=gini, max_features=log2, n_estimators=120, random_state=42;, score=0.801 total time=  13.4s\n",
      "[CV 5/5] END class_weight=balanced, criterion=gini, max_features=log2, n_estimators=120, random_state=42;, score=0.795 total time=  12.8s\n"
     ]
    },
    {
     "data": {
      "text/plain": [
       "GridSearchCV(estimator=RandomForestClassifier(random_state=42),\n",
       "             param_grid={'class_weight': ['balanced'], 'criterion': ['gini'],\n",
       "                         'max_features': ['auto', 'sqrt', 'log2'],\n",
       "                         'n_estimators': [64, 72, 80, 88, 96, 104, 112, 120],\n",
       "                         'random_state': [42]},\n",
       "             scoring='accuracy', verbose=3)"
      ]
     },
     "execution_count": 7,
     "metadata": {},
     "output_type": "execute_result"
    }
   ],
   "source": [
    "# Run fit with all sets of parameters\n",
    "# Random Forest Classifier\n",
    "f_rf_search.fit(Xs_train, y_train)"
   ]
  },
  {
   "cell_type": "code",
   "execution_count": 8,
   "id": "cfe2f83c-1da6-4490-9603-fb971a1a941a",
   "metadata": {},
   "outputs": [
    {
     "name": "stdout",
     "output_type": "stream",
     "text": [
      "Best parameter for Random Forest Classification  {'class_weight': 'balanced', 'criterion': 'gini', 'max_features': 'auto', 'n_estimators': 64, 'random_state': 42}\n",
      "Accuracy:  0.7977693602693603 \n",
      "\n"
     ]
    }
   ],
   "source": [
    "print(\"Best parameter for Random Forest Classification \", f_rf_search.best_params_)\n",
    "print(\"Accuracy: \", f_rf_search.best_score_, \"\\n\")"
   ]
  },
  {
   "cell_type": "code",
   "execution_count": 9,
   "id": "9a028e8c-8b2c-442b-9c14-c9d9d880a353",
   "metadata": {},
   "outputs": [
    {
     "name": "stdout",
     "output_type": "stream",
     "text": [
      "              precision    recall  f1-score   support\n",
      "\n",
      "           0       0.79      0.89      0.84      6452\n",
      "           1       0.55      0.28      0.37       863\n",
      "           2       0.83      0.76      0.80      4565\n",
      "\n",
      "    accuracy                           0.80     11880\n",
      "   macro avg       0.72      0.64      0.67     11880\n",
      "weighted avg       0.79      0.80      0.79     11880\n",
      "\n"
     ]
    },
    {
     "data": {
      "image/png": "[encoded data removed]",
      "text/plain": [
       "<Figure size 500x500 with 1 Axes>"
      ]
     },
     "metadata": {},
     "output_type": "display_data"
    }
   ],
   "source": [
    "# Fit Random Forest Classification with the best parameter \n",
    "rf= RandomForestClassifier(**f_rf_search.best_params_)\n",
    "\n",
    "rf.fit(Xs_train, y_train)\n",
    "y_pred =rf.predict(Xs_test)\n",
    "cm = confusion_matrix(y_test, y_pred)\n",
    "\n",
    "# Plot confusion matrix\n",
    "fig, ax = plt.subplots(figsize=(5, 5))\n",
    "ax.matshow(cm, cmap=plt.cm.Blues, alpha=0.3)\n",
    "\n",
    "for i in range(cm.shape[0]):\n",
    "    for j in range(cm.shape[1]):\n",
    "        ax.text(x=j, y=i,\n",
    "        s=cm[i, j],\n",
    "        va='center', ha='center')\n",
    "\n",
    "classes=[\"functional\",\"functional need repair\",\"non functional\"]\n",
    "tick_marks = np.arange(len(classes))\n",
    "plt.xticks(tick_marks, classes, rotation=45)\n",
    "plt.yticks(tick_marks, classes)\n",
    "plt.xlabel('Predicted Values')\n",
    "plt.ylabel('Actual Values')\n",
    "\n",
    "print(classification_report(y_test, y_pred))"
   ]
  },
  {
   "cell_type": "code",
   "execution_count": 10,
   "id": "72f5f139-a8ed-4832-b1cf-22a46b3d6fe1",
   "metadata": {},
   "outputs": [
    {
     "name": "stdout",
     "output_type": "stream",
     "text": [
      "5-Fold cross-validation accuracy score for the training data for all the classifiers\n",
      "Random Forest  : 0.795560 (0.002332)\n"
     ]
    }
   ],
   "source": [
    "models = []\n",
    "models.append((\"Random Forest\", rf))\n",
    "\n",
    "# Test options and evaluation metric\n",
    "num_folds = 5\n",
    "num_instances = len(Xs_train)\n",
    "scoring = \"accuracy\"\n",
    "results = []\n",
    "names = []\n",
    "\n",
    "for name, model in models:\n",
    "    kf = KFold(n_splits=num_folds)\n",
    "    cv_results = cross_val_score(model, Xs_train, y_train, cv=kf, scoring=scoring, n_jobs=-1)\n",
    "    results.append(cv_results)\n",
    "    names.append(name)\n",
    "    \n",
    "print(\"5-Fold cross-validation accuracy score for the training data for all the classifiers\")\n",
    "\n",
    "for name, cv_results in zip(names, results):\n",
    "    print(\"%-15s: %.6f (%.6f)\" % (name, cv_results.mean(), cv_results.std()))"
   ]
  },
  {
   "cell_type": "markdown",
   "id": "66cdaed1-9ae8-4144-a1fd-f5286e02745b",
   "metadata": {},
   "source": [
    "---\n",
    "## Final Model using entire dataset"
   ]
  },
  {
   "cell_type": "code",
   "execution_count": 11,
   "id": "7bc2ac92-50b2-4d8f-bdec-d2dc6b26fe5e",
   "metadata": {},
   "outputs": [
    {
     "data": {
      "text/plain": [
       "RandomForestClassifier(class_weight='balanced', n_estimators=64,\n",
       "                       random_state=42)"
      ]
     },
     "execution_count": 11,
     "metadata": {},
     "output_type": "execute_result"
    }
   ],
   "source": [
    "# Initialise Random forest classifier with the best parameter\n",
    "rf_model = RandomForestClassifier(**f_rf_search.best_params_)\n",
    "\n",
    "# Normalise data\n",
    "Xns = scaler.fit_transform(drivers)\n",
    "\n",
    "# Train Random forest classifier with the entire dataset\n",
    "rf_model.fit(Xns, target)"
   ]
  },
  {
   "cell_type": "code",
   "execution_count": 12,
   "id": "ea639f99-8d81-4bdf-83f6-a0d9d6625a65",
   "metadata": {},
   "outputs": [],
   "source": [
    "# Save the model\n",
    "import pickle\n",
    "\n",
    "# Dump and save the Random Forest Classifier model\n",
    "with open(\"RandomForestClassifier.pickle\", \"wb\") as f:\n",
    "    pickle.dump(rf_model, f)"
   ]
  }
 ],
 "metadata": {
  "kernelspec": {
   "display_name": "Python 3 (ipykernel)",
   "language": "python",
   "name": "python3"
  },
  "language_info": {
   "codemirror_mode": {
    "name": "ipython",
    "version": 3
   },
   "file_extension": ".py",
   "mimetype": "text/x-python",
   "name": "python",
   "nbconvert_exporter": "python",
   "pygments_lexer": "ipython3",
   "version": "3.7.16"
  }
 },
 "nbformat": 4,
 "nbformat_minor": 5
}
